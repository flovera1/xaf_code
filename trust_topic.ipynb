{
 "cells": [
  {
   "cell_type": "code",
   "execution_count": 11,
   "id": "superior-warehouse",
   "metadata": {},
   "outputs": [
    {
     "name": "stdout",
     "output_type": "stream",
     "text": [
      "Requirement already satisfied: twython in /home/fernando/.pyenv/versions/3.7.2/lib/python3.7/site-packages (3.9.1)\n",
      "Requirement already satisfied: requests-oauthlib>=0.4.0 in /home/fernando/.pyenv/versions/3.7.2/lib/python3.7/site-packages (from twython) (1.3.0)\n",
      "Requirement already satisfied: requests>=2.1.0 in /home/fernando/.pyenv/versions/3.7.2/lib/python3.7/site-packages (from twython) (2.24.0)\n",
      "Requirement already satisfied: certifi>=2017.4.17 in /home/fernando/.pyenv/versions/3.7.2/lib/python3.7/site-packages (from requests>=2.1.0->twython) (2020.6.20)\n",
      "Requirement already satisfied: idna<3,>=2.5 in /home/fernando/.pyenv/versions/3.7.2/lib/python3.7/site-packages (from requests>=2.1.0->twython) (2.10)\n",
      "Requirement already satisfied: chardet<4,>=3.0.2 in /home/fernando/.pyenv/versions/3.7.2/lib/python3.7/site-packages (from requests>=2.1.0->twython) (3.0.4)\n",
      "Requirement already satisfied: urllib3!=1.25.0,!=1.25.1,<1.26,>=1.21.1 in /home/fernando/.pyenv/versions/3.7.2/lib/python3.7/site-packages (from requests>=2.1.0->twython) (1.25.10)\n",
      "Requirement already satisfied: oauthlib>=3.0.0 in /home/fernando/.pyenv/versions/3.7.2/lib/python3.7/site-packages (from requests-oauthlib>=0.4.0->twython) (3.1.0)\n",
      "\u001b[33mWARNING: You are using pip version 21.1.3; however, version 23.2.1 is available.\n",
      "You should consider upgrading via the '/home/fernando/.pyenv/versions/3.7.2/bin/python3.7 -m pip install --upgrade pip' command.\u001b[0m\n"
     ]
    }
   ],
   "source": [
    "!pip install twython"
   ]
  },
  {
   "cell_type": "code",
   "execution_count": 12,
   "id": "requested-uzbekistan",
   "metadata": {},
   "outputs": [
    {
     "name": "stdout",
     "output_type": "stream",
     "text": [
      "Requirement already satisfied: pandas in /home/fernando/.pyenv/versions/3.7.2/lib/python3.7/site-packages (1.1.0)\n",
      "Requirement already satisfied: pytz>=2017.2 in /home/fernando/.pyenv/versions/3.7.2/lib/python3.7/site-packages (from pandas) (2020.1)\n",
      "Requirement already satisfied: python-dateutil>=2.7.3 in /home/fernando/.pyenv/versions/3.7.2/lib/python3.7/site-packages (from pandas) (2.8.1)\n",
      "Requirement already satisfied: numpy>=1.15.4 in /home/fernando/.pyenv/versions/3.7.2/lib/python3.7/site-packages (from pandas) (1.19.1)\n",
      "Requirement already satisfied: six>=1.5 in /home/fernando/.pyenv/versions/3.7.2/lib/python3.7/site-packages (from python-dateutil>=2.7.3->pandas) (1.15.0)\n",
      "\u001b[33mWARNING: You are using pip version 21.1.3; however, version 23.2.1 is available.\n",
      "You should consider upgrading via the '/home/fernando/.pyenv/versions/3.7.2/bin/python3.7 -m pip install --upgrade pip' command.\u001b[0m\n"
     ]
    }
   ],
   "source": [
    "!pip install pandas"
   ]
  },
  {
   "cell_type": "code",
   "execution_count": 28,
   "id": "dynamic-development",
   "metadata": {},
   "outputs": [],
   "source": [
    "import pandas as pd\n",
    "from pandas import DataFrame\n",
    "import twython\n",
    "from twython import Twython\n",
    "\n",
    "APP_KEY = 'bW3k2eJn4gUterABePJxhLXh2'\n",
    "APP_SECRET = 'UTzn86BoiC0D76n732Cjk0iXVotgBjl45aCZA1Oxav7fa0wUFL'\n",
    "ACCESS_TOKEN = '247600111-sgHIjFClzUojyZQRjtoprVjnDXhzcVffBFJXjwcE'\n",
    "\n",
    "d = {'id':'', 'created_at':'', 'from_user':'', 'followers_count':'', 'friends_count':'', 'statuses_count':'', 'verified':'', 'location':'', 'text':'', 'retweet_count':'', 'favorite_count':'', 'hashtag_count':'', 'url_count':'', 'mentions_count':'', 'links':''}\n",
    "\n",
    "def getFeatures(filename):\n",
    "    csvfile = pd.read_csv(filename) #Reading .csv files containing tweets.\n",
    "    tweet_ids = csvfile['id']   #Copying the 'id_str' attribute values to a item.\n",
    "    length = len(tweet_ids)         #Getting the length of 'tweet_ids'.\n",
    "    \n",
    "    df = DataFrame(d, index=[0])    #Creating a DataFrame\n",
    "\n",
    "    twitter = Twython(APP_KEY, APP_SECRET, oauth_version=2)\n",
    "    ACCESS_TOKEN = twitter.obtain_access_token()\n",
    "    twitter = Twython(APP_KEY, access_token=ACCESS_TOKEN)\n",
    "    #Generating Access Token\n",
    "\n",
    "    for i in range(0, length):\n",
    "        status = twitter.show_status(id=tweet_ids[i])\n",
    "        d['id'] = status['id'].encode('utf-8')\n",
    "        print(status)\n",
    "        \n",
    "#         d['created_at'] = status['created_at'].encode('utf-8')\n",
    "#         d['from_user'] = status['user']['screen_name'].encode('utf-8')\n",
    "#         d['followers_count'] = status['user']['followers_count']\n",
    "#         d['friends_count'] = status['user']['friends_count']\n",
    "#         d['statuses_count'] = status['user']['statuses_count']\n",
    "#         d['verified'] = status['user']['verified']\n",
    "#         d['location'] = 0 if (len(status['user']['location'].encode('utf-8'))==0) else 1\n",
    "#         d['text'] = status['text'].encode('utf-8')\n",
    "#         d['retweet_count'] = status['retweet_count']\n",
    "#         d['favorite_count'] = status['favorite_count']\n",
    "#         d['hashtag_count'] = len(status['entities']['hashtags'])\n",
    "#         d['url_count'] = len(status['entities']['urls'])\n",
    "#         d['mentions_count'] = len(status['entities']['user_mentions'])\n",
    "#         if(len(status['entities']['urls'])>0):\n",
    "#             for x in range(0, len(status['entities']['urls'])):\n",
    "#                 d['links'] += status['entities']['urls'][x]['expanded_url'].encode('utf-8') + \"  \"\n",
    "#         df = df.append(d, ignore_index=True)\n",
    "#         df.to_csv('NSamples.csv') #Saving file to disk\n",
    "#         d['links'] = ''\n",
    "    print(\"\\nAll Done!\")"
   ]
  },
  {
   "cell_type": "code",
   "execution_count": 29,
   "id": "robust-gossip",
   "metadata": {},
   "outputs": [
    {
     "ename": "TwythonError",
     "evalue": "Twitter API returned a 403 (Forbidden), You currently have access to a subset of Twitter API v2 endpoints and limited v1.1 endpoints (e.g. media post, oauth) only. If you need access to this endpoint, you may need a different access level. You can learn more here: https://developer.twitter.com/en/portal/product",
     "output_type": "error",
     "traceback": [
      "\u001b[0;31m---------------------------------------------------------------------------\u001b[0m",
      "\u001b[0;31mTwythonError\u001b[0m                              Traceback (most recent call last)",
      "\u001b[0;32m<ipython-input-29-b75c58a966eb>\u001b[0m in \u001b[0;36m<module>\u001b[0;34m\u001b[0m\n\u001b[0;32m----> 1\u001b[0;31m \u001b[0mgetFeatures\u001b[0m\u001b[0;34m(\u001b[0m\u001b[0;34m'cooked_tweets_0_2151.csv'\u001b[0m\u001b[0;34m)\u001b[0m\u001b[0;34m\u001b[0m\u001b[0;34m\u001b[0m\u001b[0m\n\u001b[0m",
      "\u001b[0;32m<ipython-input-28-77eb530bdeff>\u001b[0m in \u001b[0;36mgetFeatures\u001b[0;34m(filename)\u001b[0m\n\u001b[1;32m     23\u001b[0m \u001b[0;34m\u001b[0m\u001b[0m\n\u001b[1;32m     24\u001b[0m     \u001b[0;32mfor\u001b[0m \u001b[0mi\u001b[0m \u001b[0;32min\u001b[0m \u001b[0mrange\u001b[0m\u001b[0;34m(\u001b[0m\u001b[0;36m0\u001b[0m\u001b[0;34m,\u001b[0m \u001b[0mlength\u001b[0m\u001b[0;34m)\u001b[0m\u001b[0;34m:\u001b[0m\u001b[0;34m\u001b[0m\u001b[0;34m\u001b[0m\u001b[0m\n\u001b[0;32m---> 25\u001b[0;31m         \u001b[0mstatus\u001b[0m \u001b[0;34m=\u001b[0m \u001b[0mtwitter\u001b[0m\u001b[0;34m.\u001b[0m\u001b[0mshow_status\u001b[0m\u001b[0;34m(\u001b[0m\u001b[0mid\u001b[0m\u001b[0;34m=\u001b[0m\u001b[0mtweet_ids\u001b[0m\u001b[0;34m[\u001b[0m\u001b[0mi\u001b[0m\u001b[0;34m]\u001b[0m\u001b[0;34m)\u001b[0m\u001b[0;34m\u001b[0m\u001b[0;34m\u001b[0m\u001b[0m\n\u001b[0m\u001b[1;32m     26\u001b[0m         \u001b[0md\u001b[0m\u001b[0;34m[\u001b[0m\u001b[0;34m'id'\u001b[0m\u001b[0;34m]\u001b[0m \u001b[0;34m=\u001b[0m \u001b[0mstatus\u001b[0m\u001b[0;34m[\u001b[0m\u001b[0;34m'id'\u001b[0m\u001b[0;34m]\u001b[0m\u001b[0;34m.\u001b[0m\u001b[0mencode\u001b[0m\u001b[0;34m(\u001b[0m\u001b[0;34m'utf-8'\u001b[0m\u001b[0;34m)\u001b[0m\u001b[0;34m\u001b[0m\u001b[0;34m\u001b[0m\u001b[0m\n\u001b[1;32m     27\u001b[0m         \u001b[0mprint\u001b[0m\u001b[0;34m(\u001b[0m\u001b[0mstatus\u001b[0m\u001b[0;34m)\u001b[0m\u001b[0;34m\u001b[0m\u001b[0;34m\u001b[0m\u001b[0m\n",
      "\u001b[0;32m~/.pyenv/versions/3.7.2/lib/python3.7/site-packages/twython/endpoints.py\u001b[0m in \u001b[0;36mshow_status\u001b[0;34m(self, **params)\u001b[0m\n\u001b[1;32m     92\u001b[0m \u001b[0;34m\u001b[0m\u001b[0m\n\u001b[1;32m     93\u001b[0m         \"\"\"\n\u001b[0;32m---> 94\u001b[0;31m         \u001b[0;32mreturn\u001b[0m \u001b[0mself\u001b[0m\u001b[0;34m.\u001b[0m\u001b[0mget\u001b[0m\u001b[0;34m(\u001b[0m\u001b[0;34m'statuses/show/%s'\u001b[0m \u001b[0;34m%\u001b[0m \u001b[0mparams\u001b[0m\u001b[0;34m.\u001b[0m\u001b[0mget\u001b[0m\u001b[0;34m(\u001b[0m\u001b[0;34m'id'\u001b[0m\u001b[0;34m)\u001b[0m\u001b[0;34m,\u001b[0m \u001b[0mparams\u001b[0m\u001b[0;34m=\u001b[0m\u001b[0mparams\u001b[0m\u001b[0;34m)\u001b[0m\u001b[0;34m\u001b[0m\u001b[0;34m\u001b[0m\u001b[0m\n\u001b[0m\u001b[1;32m     95\u001b[0m \u001b[0;34m\u001b[0m\u001b[0m\n\u001b[1;32m     96\u001b[0m     \u001b[0;32mdef\u001b[0m \u001b[0mlookup_status\u001b[0m\u001b[0;34m(\u001b[0m\u001b[0mself\u001b[0m\u001b[0;34m,\u001b[0m \u001b[0;34m**\u001b[0m\u001b[0mparams\u001b[0m\u001b[0;34m)\u001b[0m\u001b[0;34m:\u001b[0m\u001b[0;34m\u001b[0m\u001b[0;34m\u001b[0m\u001b[0m\n",
      "\u001b[0;32m~/.pyenv/versions/3.7.2/lib/python3.7/site-packages/twython/api.py\u001b[0m in \u001b[0;36mget\u001b[0;34m(self, endpoint, params, version)\u001b[0m\n\u001b[1;32m    277\u001b[0m     \u001b[0;32mdef\u001b[0m \u001b[0mget\u001b[0m\u001b[0;34m(\u001b[0m\u001b[0mself\u001b[0m\u001b[0;34m,\u001b[0m \u001b[0mendpoint\u001b[0m\u001b[0;34m,\u001b[0m \u001b[0mparams\u001b[0m\u001b[0;34m=\u001b[0m\u001b[0;32mNone\u001b[0m\u001b[0;34m,\u001b[0m \u001b[0mversion\u001b[0m\u001b[0;34m=\u001b[0m\u001b[0;34m'1.1'\u001b[0m\u001b[0;34m)\u001b[0m\u001b[0;34m:\u001b[0m\u001b[0;34m\u001b[0m\u001b[0;34m\u001b[0m\u001b[0m\n\u001b[1;32m    278\u001b[0m         \u001b[0;34m\"\"\"Shortcut for GET requests via :class:`request`\"\"\"\u001b[0m\u001b[0;34m\u001b[0m\u001b[0;34m\u001b[0m\u001b[0m\n\u001b[0;32m--> 279\u001b[0;31m         \u001b[0;32mreturn\u001b[0m \u001b[0mself\u001b[0m\u001b[0;34m.\u001b[0m\u001b[0mrequest\u001b[0m\u001b[0;34m(\u001b[0m\u001b[0mendpoint\u001b[0m\u001b[0;34m,\u001b[0m \u001b[0mparams\u001b[0m\u001b[0;34m=\u001b[0m\u001b[0mparams\u001b[0m\u001b[0;34m,\u001b[0m \u001b[0mversion\u001b[0m\u001b[0;34m=\u001b[0m\u001b[0mversion\u001b[0m\u001b[0;34m)\u001b[0m\u001b[0;34m\u001b[0m\u001b[0;34m\u001b[0m\u001b[0m\n\u001b[0m\u001b[1;32m    280\u001b[0m \u001b[0;34m\u001b[0m\u001b[0m\n\u001b[1;32m    281\u001b[0m     \u001b[0;32mdef\u001b[0m \u001b[0mpost\u001b[0m\u001b[0;34m(\u001b[0m\u001b[0mself\u001b[0m\u001b[0;34m,\u001b[0m \u001b[0mendpoint\u001b[0m\u001b[0;34m,\u001b[0m \u001b[0mparams\u001b[0m\u001b[0;34m=\u001b[0m\u001b[0;32mNone\u001b[0m\u001b[0;34m,\u001b[0m \u001b[0mversion\u001b[0m\u001b[0;34m=\u001b[0m\u001b[0;34m'1.1'\u001b[0m\u001b[0;34m,\u001b[0m \u001b[0mjson_encoded\u001b[0m\u001b[0;34m=\u001b[0m\u001b[0;32mFalse\u001b[0m\u001b[0;34m)\u001b[0m\u001b[0;34m:\u001b[0m\u001b[0;34m\u001b[0m\u001b[0;34m\u001b[0m\u001b[0m\n",
      "\u001b[0;32m~/.pyenv/versions/3.7.2/lib/python3.7/site-packages/twython/api.py\u001b[0m in \u001b[0;36mrequest\u001b[0;34m(self, endpoint, method, params, version, json_encoded)\u001b[0m\n\u001b[1;32m    271\u001b[0m \u001b[0;34m\u001b[0m\u001b[0m\n\u001b[1;32m    272\u001b[0m         content = self._request(url, method=method, params=params,\n\u001b[0;32m--> 273\u001b[0;31m                                 api_call=url, json_encoded=json_encoded)\n\u001b[0m\u001b[1;32m    274\u001b[0m \u001b[0;34m\u001b[0m\u001b[0m\n\u001b[1;32m    275\u001b[0m         \u001b[0;32mreturn\u001b[0m \u001b[0mcontent\u001b[0m\u001b[0;34m\u001b[0m\u001b[0;34m\u001b[0m\u001b[0m\n",
      "\u001b[0;32m~/.pyenv/versions/3.7.2/lib/python3.7/site-packages/twython/api.py\u001b[0m in \u001b[0;36m_request\u001b[0;34m(self, url, method, params, api_call, json_encoded)\u001b[0m\n\u001b[1;32m    203\u001b[0m                 \u001b[0merror_message\u001b[0m\u001b[0;34m,\u001b[0m\u001b[0;34m\u001b[0m\u001b[0;34m\u001b[0m\u001b[0m\n\u001b[1;32m    204\u001b[0m                 \u001b[0merror_code\u001b[0m\u001b[0;34m=\u001b[0m\u001b[0mresponse\u001b[0m\u001b[0;34m.\u001b[0m\u001b[0mstatus_code\u001b[0m\u001b[0;34m,\u001b[0m\u001b[0;34m\u001b[0m\u001b[0;34m\u001b[0m\u001b[0m\n\u001b[0;32m--> 205\u001b[0;31m                 retry_after=response.headers.get('X-Rate-Limit-Reset'))\n\u001b[0m\u001b[1;32m    206\u001b[0m         \u001b[0mcontent\u001b[0m \u001b[0;34m=\u001b[0m \u001b[0;34m''\u001b[0m\u001b[0;34m\u001b[0m\u001b[0;34m\u001b[0m\u001b[0m\n\u001b[1;32m    207\u001b[0m         \u001b[0;32mtry\u001b[0m\u001b[0;34m:\u001b[0m\u001b[0;34m\u001b[0m\u001b[0;34m\u001b[0m\u001b[0m\n",
      "\u001b[0;31mTwythonError\u001b[0m: Twitter API returned a 403 (Forbidden), You currently have access to a subset of Twitter API v2 endpoints and limited v1.1 endpoints (e.g. media post, oauth) only. If you need access to this endpoint, you may need a different access level. You can learn more here: https://developer.twitter.com/en/portal/product"
     ]
    }
   ],
   "source": [
    "getFeatures('cooked_tweets_0_2151.csv')"
   ]
  },
  {
   "cell_type": "code",
   "execution_count": null,
   "id": "abroad-sample",
   "metadata": {},
   "outputs": [],
   "source": []
  }
 ],
 "metadata": {
  "kernelspec": {
   "display_name": "Python 3",
   "language": "python",
   "name": "python3"
  },
  "language_info": {
   "codemirror_mode": {
    "name": "ipython",
    "version": 3
   },
   "file_extension": ".py",
   "mimetype": "text/x-python",
   "name": "python",
   "nbconvert_exporter": "python",
   "pygments_lexer": "ipython3",
   "version": "3.7.2"
  }
 },
 "nbformat": 4,
 "nbformat_minor": 5
}
