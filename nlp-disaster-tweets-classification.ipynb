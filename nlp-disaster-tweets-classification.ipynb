{
 "cells": [
  {
   "cell_type": "code",
   "execution_count": 1,
   "id": "e4e6a572",
   "metadata": {
    "_cell_guid": "b1076dfc-b9ad-4769-8c92-a6c4dae69d19",
    "_uuid": "8f2839f25d086af736a60e9eeb907d3b93b6e0e5",
    "execution": {
     "iopub.execute_input": "2024-02-15T06:58:27.790236Z",
     "iopub.status.busy": "2024-02-15T06:58:27.789802Z",
     "iopub.status.idle": "2024-02-15T06:58:28.863881Z",
     "shell.execute_reply": "2024-02-15T06:58:28.861595Z"
    },
    "papermill": {
     "duration": 1.093482,
     "end_time": "2024-02-15T06:58:28.867233",
     "exception": false,
     "start_time": "2024-02-15T06:58:27.773751",
     "status": "completed"
    },
    "tags": []
   },
   "outputs": [],
   "source": [
    "# This Python 3 environment comes with many helpful analytics libraries installed\n",
    "# It is defined by the kaggle/python Docker image: https://github.com/kaggle/docker-python\n",
    "# For example, here's several helpful packages to load\n",
    "\n",
    "import numpy as np # linear algebra\n",
    "import pandas as pd # data processing, CSV file I/O (e.g. pd.read_csv)\n",
    "\n",
    "# Input data files are available in the read-only \"../input/\" directory\n",
    "# For example, running this (by clicking run or pressing Shift+Enter) will list all files under the input directory\n",
    "\n",
    "import os\n",
    "for dirname, _, filenames in os.walk('/kaggle/input'):\n",
    "    for filename in filenames:\n",
    "        print(os.path.join(dirname, filename))\n",
    "\n",
    "# You can write up to 20GB to the current directory (/kaggle/working/) that gets preserved as output when you create a version using \"Save & Run All\" \n",
    "# You can also write temporary files to /kaggle/temp/, but they won't be saved outside of the current session"
   ]
  },
  {
   "cell_type": "code",
   "execution_count": 2,
   "id": "820d6bde",
   "metadata": {
    "execution": {
     "iopub.execute_input": "2024-02-15T06:58:28.897479Z",
     "iopub.status.busy": "2024-02-15T06:58:28.896840Z",
     "iopub.status.idle": "2024-02-15T06:58:28.980363Z",
     "shell.execute_reply": "2024-02-15T06:58:28.979207Z"
    },
    "papermill": {
     "duration": 0.101896,
     "end_time": "2024-02-15T06:58:28.983192",
     "exception": false,
     "start_time": "2024-02-15T06:58:28.881296",
     "status": "completed"
    },
    "tags": []
   },
   "outputs": [],
   "source": [
    "df_train = pd.read_csv(\"./nlp-getting-started/train.csv\")\n",
    "df_test = pd.read_csv(\"./nlp-getting-started/test.csv\")"
   ]
  },
  {
   "cell_type": "code",
   "execution_count": 3,
   "id": "12b35de1",
   "metadata": {
    "execution": {
     "iopub.execute_input": "2024-02-15T06:58:29.014024Z",
     "iopub.status.busy": "2024-02-15T06:58:29.012349Z",
     "iopub.status.idle": "2024-02-15T06:58:29.048113Z",
     "shell.execute_reply": "2024-02-15T06:58:29.047039Z"
    },
    "papermill": {
     "duration": 0.053498,
     "end_time": "2024-02-15T06:58:29.050903",
     "exception": false,
     "start_time": "2024-02-15T06:58:28.997405",
     "status": "completed"
    },
    "tags": []
   },
   "outputs": [
    {
     "data": {
      "text/html": [
       "<div>\n",
       "<style scoped>\n",
       "    .dataframe tbody tr th:only-of-type {\n",
       "        vertical-align: middle;\n",
       "    }\n",
       "\n",
       "    .dataframe tbody tr th {\n",
       "        vertical-align: top;\n",
       "    }\n",
       "\n",
       "    .dataframe thead th {\n",
       "        text-align: right;\n",
       "    }\n",
       "</style>\n",
       "<table border=\"1\" class=\"dataframe\">\n",
       "  <thead>\n",
       "    <tr style=\"text-align: right;\">\n",
       "      <th></th>\n",
       "      <th>id</th>\n",
       "      <th>keyword</th>\n",
       "      <th>location</th>\n",
       "      <th>text</th>\n",
       "      <th>target</th>\n",
       "    </tr>\n",
       "  </thead>\n",
       "  <tbody>\n",
       "    <tr>\n",
       "      <th>7609</th>\n",
       "      <td>10870</td>\n",
       "      <td>NaN</td>\n",
       "      <td>NaN</td>\n",
       "      <td>@aria_ahrary @TheTawniest The out of control w...</td>\n",
       "      <td>1</td>\n",
       "    </tr>\n",
       "    <tr>\n",
       "      <th>7076</th>\n",
       "      <td>10137</td>\n",
       "      <td>upheaval</td>\n",
       "      <td>Woosley</td>\n",
       "      <td>Ancient Mayan Tablet with Hieroglyphics Honors...</td>\n",
       "      <td>0</td>\n",
       "    </tr>\n",
       "    <tr>\n",
       "      <th>3633</th>\n",
       "      <td>5182</td>\n",
       "      <td>fatalities</td>\n",
       "      <td>Hope Road, Jamaica</td>\n",
       "      <td>'Use our roads wisely and prevent the carnage ...</td>\n",
       "      <td>0</td>\n",
       "    </tr>\n",
       "    <tr>\n",
       "      <th>6868</th>\n",
       "      <td>9842</td>\n",
       "      <td>trauma</td>\n",
       "      <td>NaN</td>\n",
       "      <td>What is the role of usg in paeds major trauma ...</td>\n",
       "      <td>0</td>\n",
       "    </tr>\n",
       "    <tr>\n",
       "      <th>2789</th>\n",
       "      <td>4012</td>\n",
       "      <td>disaster</td>\n",
       "      <td>en el pais de los arrechos</td>\n",
       "      <td>beautiful disaster https://t.co/qm5Sz0fyU8</td>\n",
       "      <td>0</td>\n",
       "    </tr>\n",
       "    <tr>\n",
       "      <th>3741</th>\n",
       "      <td>5317</td>\n",
       "      <td>fire</td>\n",
       "      <td>NaN</td>\n",
       "      <td>Why put out a fire when it's still burning.</td>\n",
       "      <td>0</td>\n",
       "    </tr>\n",
       "    <tr>\n",
       "      <th>6416</th>\n",
       "      <td>9174</td>\n",
       "      <td>suicide%20bomber</td>\n",
       "      <td>NaN</td>\n",
       "      <td>#deai #??? #??? #??? Suicide bomber kills 15 i...</td>\n",
       "      <td>1</td>\n",
       "    </tr>\n",
       "    <tr>\n",
       "      <th>3074</th>\n",
       "      <td>4410</td>\n",
       "      <td>electrocute</td>\n",
       "      <td>Naperville</td>\n",
       "      <td>Electrocute yourself</td>\n",
       "      <td>0</td>\n",
       "    </tr>\n",
       "    <tr>\n",
       "      <th>7449</th>\n",
       "      <td>10660</td>\n",
       "      <td>wounds</td>\n",
       "      <td>United States</td>\n",
       "      <td>Having your wounds kissed by Someone who doesn...</td>\n",
       "      <td>0</td>\n",
       "    </tr>\n",
       "    <tr>\n",
       "      <th>5205</th>\n",
       "      <td>7433</td>\n",
       "      <td>obliterated</td>\n",
       "      <td>Mid West</td>\n",
       "      <td>Obliterated my phone screen today with a drum ...</td>\n",
       "      <td>0</td>\n",
       "    </tr>\n",
       "  </tbody>\n",
       "</table>\n",
       "</div>"
      ],
      "text/plain": [
       "         id           keyword                    location  \\\n",
       "7609  10870               NaN                         NaN   \n",
       "7076  10137          upheaval                     Woosley   \n",
       "3633   5182        fatalities         Hope Road, Jamaica    \n",
       "6868   9842            trauma                         NaN   \n",
       "2789   4012          disaster  en el pais de los arrechos   \n",
       "3741   5317              fire                         NaN   \n",
       "6416   9174  suicide%20bomber                         NaN   \n",
       "3074   4410       electrocute                  Naperville   \n",
       "7449  10660            wounds               United States   \n",
       "5205   7433       obliterated                    Mid West   \n",
       "\n",
       "                                                   text  target  \n",
       "7609  @aria_ahrary @TheTawniest The out of control w...       1  \n",
       "7076  Ancient Mayan Tablet with Hieroglyphics Honors...       0  \n",
       "3633  'Use our roads wisely and prevent the carnage ...       0  \n",
       "6868  What is the role of usg in paeds major trauma ...       0  \n",
       "2789         beautiful disaster https://t.co/qm5Sz0fyU8       0  \n",
       "3741        Why put out a fire when it's still burning.       0  \n",
       "6416  #deai #??? #??? #??? Suicide bomber kills 15 i...       1  \n",
       "3074                               Electrocute yourself       0  \n",
       "7449  Having your wounds kissed by Someone who doesn...       0  \n",
       "5205  Obliterated my phone screen today with a drum ...       0  "
      ]
     },
     "execution_count": 3,
     "metadata": {},
     "output_type": "execute_result"
    }
   ],
   "source": [
    "                    df_train.sample(10)"
   ]
  },
  {
   "cell_type": "code",
   "execution_count": 4,
   "id": "17732416",
   "metadata": {
    "execution": {
     "iopub.execute_input": "2024-02-15T06:58:29.084693Z",
     "iopub.status.busy": "2024-02-15T06:58:29.083328Z",
     "iopub.status.idle": "2024-02-15T06:58:29.100833Z",
     "shell.execute_reply": "2024-02-15T06:58:29.099854Z"
    },
    "papermill": {
     "duration": 0.036983,
     "end_time": "2024-02-15T06:58:29.103390",
     "exception": false,
     "start_time": "2024-02-15T06:58:29.066407",
     "status": "completed"
    },
    "tags": []
   },
   "outputs": [
    {
     "data": {
      "text/html": [
       "<div>\n",
       "<style scoped>\n",
       "    .dataframe tbody tr th:only-of-type {\n",
       "        vertical-align: middle;\n",
       "    }\n",
       "\n",
       "    .dataframe tbody tr th {\n",
       "        vertical-align: top;\n",
       "    }\n",
       "\n",
       "    .dataframe thead th {\n",
       "        text-align: right;\n",
       "    }\n",
       "</style>\n",
       "<table border=\"1\" class=\"dataframe\">\n",
       "  <thead>\n",
       "    <tr style=\"text-align: right;\">\n",
       "      <th></th>\n",
       "      <th>id</th>\n",
       "      <th>keyword</th>\n",
       "      <th>location</th>\n",
       "      <th>text</th>\n",
       "    </tr>\n",
       "  </thead>\n",
       "  <tbody>\n",
       "    <tr>\n",
       "      <th>2954</th>\n",
       "      <td>9789</td>\n",
       "      <td>trapped</td>\n",
       "      <td>USA</td>\n",
       "      <td>Hollywood Movie About Trapped Miners Released ...</td>\n",
       "    </tr>\n",
       "    <tr>\n",
       "      <th>2689</th>\n",
       "      <td>8960</td>\n",
       "      <td>storm</td>\n",
       "      <td>Sunmy Melbourne, England</td>\n",
       "      <td>Want to know how to get the edge and storm Roc...</td>\n",
       "    </tr>\n",
       "    <tr>\n",
       "      <th>1333</th>\n",
       "      <td>4400</td>\n",
       "      <td>electrocute</td>\n",
       "      <td>Here.</td>\n",
       "      <td>hmm what if I've already met my special someon...</td>\n",
       "    </tr>\n",
       "    <tr>\n",
       "      <th>235</th>\n",
       "      <td>764</td>\n",
       "      <td>avalanche</td>\n",
       "      <td>Saint Andrews, Scotland</td>\n",
       "      <td>As you can imagine I had plenty to talk about ...</td>\n",
       "    </tr>\n",
       "    <tr>\n",
       "      <th>1660</th>\n",
       "      <td>5597</td>\n",
       "      <td>flood</td>\n",
       "      <td>New York</td>\n",
       "      <td>12' 72W CREE LED Work Light Bar Alloy Spot Flo...</td>\n",
       "    </tr>\n",
       "    <tr>\n",
       "      <th>1352</th>\n",
       "      <td>4461</td>\n",
       "      <td>electrocuted</td>\n",
       "      <td>USA</td>\n",
       "      <td>South Side factory where worker electrocuted p...</td>\n",
       "    </tr>\n",
       "    <tr>\n",
       "      <th>1850</th>\n",
       "      <td>6239</td>\n",
       "      <td>hijacking</td>\n",
       "      <td>Chinade, Nigeria</td>\n",
       "      <td>#hot  Funtenna: hijacking computers to send da...</td>\n",
       "    </tr>\n",
       "    <tr>\n",
       "      <th>421</th>\n",
       "      <td>1364</td>\n",
       "      <td>blown%20up</td>\n",
       "      <td>22714 Ventura Blvd. WHills, CA</td>\n",
       "      <td>Get blown up with a delicious flavor of #BlowV...</td>\n",
       "    </tr>\n",
       "    <tr>\n",
       "      <th>1634</th>\n",
       "      <td>5511</td>\n",
       "      <td>flattened</td>\n",
       "      <td>NaN</td>\n",
       "      <td>I think that's been the best bit of this match...</td>\n",
       "    </tr>\n",
       "    <tr>\n",
       "      <th>270</th>\n",
       "      <td>880</td>\n",
       "      <td>bioterrorism</td>\n",
       "      <td>Los Angeles</td>\n",
       "      <td>The largest bioterrorism attack on U.S. soil i...</td>\n",
       "    </tr>\n",
       "  </tbody>\n",
       "</table>\n",
       "</div>"
      ],
      "text/plain": [
       "        id       keyword                        location  \\\n",
       "2954  9789       trapped                             USA   \n",
       "2689  8960         storm        Sunmy Melbourne, England   \n",
       "1333  4400   electrocute                           Here.   \n",
       "235    764     avalanche         Saint Andrews, Scotland   \n",
       "1660  5597         flood                        New York   \n",
       "1352  4461  electrocuted                             USA   \n",
       "1850  6239     hijacking                Chinade, Nigeria   \n",
       "421   1364    blown%20up  22714 Ventura Blvd. WHills, CA   \n",
       "1634  5511     flattened                             NaN   \n",
       "270    880  bioterrorism                     Los Angeles   \n",
       "\n",
       "                                                   text  \n",
       "2954  Hollywood Movie About Trapped Miners Released ...  \n",
       "2689  Want to know how to get the edge and storm Roc...  \n",
       "1333  hmm what if I've already met my special someon...  \n",
       "235   As you can imagine I had plenty to talk about ...  \n",
       "1660  12' 72W CREE LED Work Light Bar Alloy Spot Flo...  \n",
       "1352  South Side factory where worker electrocuted p...  \n",
       "1850  #hot  Funtenna: hijacking computers to send da...  \n",
       "421   Get blown up with a delicious flavor of #BlowV...  \n",
       "1634  I think that's been the best bit of this match...  \n",
       "270   The largest bioterrorism attack on U.S. soil i...  "
      ]
     },
     "execution_count": 4,
     "metadata": {},
     "output_type": "execute_result"
    }
   ],
   "source": [
    "df_test.sample(10)"
   ]
  },
  {
   "cell_type": "code",
   "execution_count": 5,
   "id": "91863c62",
   "metadata": {
    "execution": {
     "iopub.execute_input": "2024-02-15T06:58:29.134508Z",
     "iopub.status.busy": "2024-02-15T06:58:29.133799Z",
     "iopub.status.idle": "2024-02-15T06:58:29.172540Z",
     "shell.execute_reply": "2024-02-15T06:58:29.170947Z"
    },
    "papermill": {
     "duration": 0.057767,
     "end_time": "2024-02-15T06:58:29.175770",
     "exception": false,
     "start_time": "2024-02-15T06:58:29.118003",
     "status": "completed"
    },
    "tags": []
   },
   "outputs": [
    {
     "name": "stdout",
     "output_type": "stream",
     "text": [
      "Train data info \n",
      "\n",
      "<class 'pandas.core.frame.DataFrame'>\n",
      "RangeIndex: 7613 entries, 0 to 7612\n",
      "Data columns (total 5 columns):\n",
      " #   Column    Non-Null Count  Dtype \n",
      "---  ------    --------------  ----- \n",
      " 0   id        7613 non-null   int64 \n",
      " 1   keyword   7552 non-null   object\n",
      " 2   location  5080 non-null   object\n",
      " 3   text      7613 non-null   object\n",
      " 4   target    7613 non-null   int64 \n",
      "dtypes: int64(2), object(3)\n",
      "memory usage: 297.5+ KB\n",
      "\n",
      "Test data info \n",
      "\n",
      "<class 'pandas.core.frame.DataFrame'>\n",
      "RangeIndex: 3263 entries, 0 to 3262\n",
      "Data columns (total 4 columns):\n",
      " #   Column    Non-Null Count  Dtype \n",
      "---  ------    --------------  ----- \n",
      " 0   id        3263 non-null   int64 \n",
      " 1   keyword   3237 non-null   object\n",
      " 2   location  2158 non-null   object\n",
      " 3   text      3263 non-null   object\n",
      "dtypes: int64(1), object(3)\n",
      "memory usage: 102.1+ KB\n"
     ]
    }
   ],
   "source": [
    "print(\"Train data info \\n\")\n",
    "df_train.info()\n",
    "print(\"\\nTest data info \\n\")\n",
    "df_test.info()"
   ]
  },
  {
   "cell_type": "code",
   "execution_count": 6,
   "id": "dcef2925",
   "metadata": {
    "execution": {
     "iopub.execute_input": "2024-02-15T06:58:29.206905Z",
     "iopub.status.busy": "2024-02-15T06:58:29.206407Z",
     "iopub.status.idle": "2024-02-15T06:58:29.218008Z",
     "shell.execute_reply": "2024-02-15T06:58:29.216640Z"
    },
    "papermill": {
     "duration": 0.030496,
     "end_time": "2024-02-15T06:58:29.220799",
     "exception": false,
     "start_time": "2024-02-15T06:58:29.190303",
     "status": "completed"
    },
    "tags": []
   },
   "outputs": [],
   "source": [
    "df_test.drop(['keyword', 'location','id'], axis = 1, inplace=True)\n",
    "df_train.drop(['keyword', 'location','id'], axis = 1, inplace=True)"
   ]
  },
  {
   "cell_type": "code",
   "execution_count": 7,
   "id": "99065971",
   "metadata": {
    "execution": {
     "iopub.execute_input": "2024-02-15T06:58:29.252175Z",
     "iopub.status.busy": "2024-02-15T06:58:29.251741Z",
     "iopub.status.idle": "2024-02-15T06:58:29.262227Z",
     "shell.execute_reply": "2024-02-15T06:58:29.261254Z"
    },
    "papermill": {
     "duration": 0.029331,
     "end_time": "2024-02-15T06:58:29.264964",
     "exception": false,
     "start_time": "2024-02-15T06:58:29.235633",
     "status": "completed"
    },
    "tags": []
   },
   "outputs": [
    {
     "data": {
      "text/html": [
       "<div>\n",
       "<style scoped>\n",
       "    .dataframe tbody tr th:only-of-type {\n",
       "        vertical-align: middle;\n",
       "    }\n",
       "\n",
       "    .dataframe tbody tr th {\n",
       "        vertical-align: top;\n",
       "    }\n",
       "\n",
       "    .dataframe thead th {\n",
       "        text-align: right;\n",
       "    }\n",
       "</style>\n",
       "<table border=\"1\" class=\"dataframe\">\n",
       "  <thead>\n",
       "    <tr style=\"text-align: right;\">\n",
       "      <th></th>\n",
       "      <th>text</th>\n",
       "      <th>target</th>\n",
       "    </tr>\n",
       "  </thead>\n",
       "  <tbody>\n",
       "    <tr>\n",
       "      <th>0</th>\n",
       "      <td>Our Deeds are the Reason of this #earthquake M...</td>\n",
       "      <td>1</td>\n",
       "    </tr>\n",
       "    <tr>\n",
       "      <th>1</th>\n",
       "      <td>Forest fire near La Ronge Sask. Canada</td>\n",
       "      <td>1</td>\n",
       "    </tr>\n",
       "    <tr>\n",
       "      <th>2</th>\n",
       "      <td>All residents asked to 'shelter in place' are ...</td>\n",
       "      <td>1</td>\n",
       "    </tr>\n",
       "    <tr>\n",
       "      <th>3</th>\n",
       "      <td>13,000 people receive #wildfires evacuation or...</td>\n",
       "      <td>1</td>\n",
       "    </tr>\n",
       "    <tr>\n",
       "      <th>4</th>\n",
       "      <td>Just got sent this photo from Ruby #Alaska as ...</td>\n",
       "      <td>1</td>\n",
       "    </tr>\n",
       "  </tbody>\n",
       "</table>\n",
       "</div>"
      ],
      "text/plain": [
       "                                                text  target\n",
       "0  Our Deeds are the Reason of this #earthquake M...       1\n",
       "1             Forest fire near La Ronge Sask. Canada       1\n",
       "2  All residents asked to 'shelter in place' are ...       1\n",
       "3  13,000 people receive #wildfires evacuation or...       1\n",
       "4  Just got sent this photo from Ruby #Alaska as ...       1"
      ]
     },
     "execution_count": 7,
     "metadata": {},
     "output_type": "execute_result"
    }
   ],
   "source": [
    "df_train.head()"
   ]
  },
  {
   "cell_type": "code",
   "execution_count": 8,
   "id": "9de41ac3",
   "metadata": {
    "execution": {
     "iopub.execute_input": "2024-02-15T06:58:29.297043Z",
     "iopub.status.busy": "2024-02-15T06:58:29.296213Z",
     "iopub.status.idle": "2024-02-15T06:58:29.307018Z",
     "shell.execute_reply": "2024-02-15T06:58:29.305930Z"
    },
    "papermill": {
     "duration": 0.030183,
     "end_time": "2024-02-15T06:58:29.309683",
     "exception": false,
     "start_time": "2024-02-15T06:58:29.279500",
     "status": "completed"
    },
    "tags": []
   },
   "outputs": [
    {
     "data": {
      "text/html": [
       "<div>\n",
       "<style scoped>\n",
       "    .dataframe tbody tr th:only-of-type {\n",
       "        vertical-align: middle;\n",
       "    }\n",
       "\n",
       "    .dataframe tbody tr th {\n",
       "        vertical-align: top;\n",
       "    }\n",
       "\n",
       "    .dataframe thead th {\n",
       "        text-align: right;\n",
       "    }\n",
       "</style>\n",
       "<table border=\"1\" class=\"dataframe\">\n",
       "  <thead>\n",
       "    <tr style=\"text-align: right;\">\n",
       "      <th></th>\n",
       "      <th>text</th>\n",
       "    </tr>\n",
       "  </thead>\n",
       "  <tbody>\n",
       "    <tr>\n",
       "      <th>0</th>\n",
       "      <td>Just happened a terrible car crash</td>\n",
       "    </tr>\n",
       "    <tr>\n",
       "      <th>1</th>\n",
       "      <td>Heard about #earthquake is different cities, s...</td>\n",
       "    </tr>\n",
       "    <tr>\n",
       "      <th>2</th>\n",
       "      <td>there is a forest fire at spot pond, geese are...</td>\n",
       "    </tr>\n",
       "    <tr>\n",
       "      <th>3</th>\n",
       "      <td>Apocalypse lighting. #Spokane #wildfires</td>\n",
       "    </tr>\n",
       "    <tr>\n",
       "      <th>4</th>\n",
       "      <td>Typhoon Soudelor kills 28 in China and Taiwan</td>\n",
       "    </tr>\n",
       "  </tbody>\n",
       "</table>\n",
       "</div>"
      ],
      "text/plain": [
       "                                                text\n",
       "0                 Just happened a terrible car crash\n",
       "1  Heard about #earthquake is different cities, s...\n",
       "2  there is a forest fire at spot pond, geese are...\n",
       "3           Apocalypse lighting. #Spokane #wildfires\n",
       "4      Typhoon Soudelor kills 28 in China and Taiwan"
      ]
     },
     "execution_count": 8,
     "metadata": {},
     "output_type": "execute_result"
    }
   ],
   "source": [
    "df_test.head()"
   ]
  },
  {
   "cell_type": "code",
   "execution_count": 9,
   "id": "47fadf1b",
   "metadata": {
    "execution": {
     "iopub.execute_input": "2024-02-15T06:58:29.343661Z",
     "iopub.status.busy": "2024-02-15T06:58:29.343002Z",
     "iopub.status.idle": "2024-02-15T06:58:29.521399Z",
     "shell.execute_reply": "2024-02-15T06:58:29.520177Z"
    },
    "papermill": {
     "duration": 0.199464,
     "end_time": "2024-02-15T06:58:29.524760",
     "exception": false,
     "start_time": "2024-02-15T06:58:29.325296",
     "status": "completed"
    },
    "tags": []
   },
   "outputs": [],
   "source": [
    "import re\n",
    "def change_contraction_verb(text):\n",
    "    text = re.sub(r\"n\\'t\", \" not\", text)\n",
    "    text = re.sub(r\"\\'re\", \" are\", text)\n",
    "    text = re.sub(r\"\\'s\", \" is\", text)\n",
    "    text = re.sub(r\"\\'d\", \" would\", text)\n",
    "    text = re.sub(r\"\\'ll\", \" will\", text)\n",
    "    text = re.sub(r\"\\'t\", \" not\", text)\n",
    "    text = re.sub(r\"\\'ve\", \" have\", text)\n",
    "    text = re.sub(r\"\\'m\", \" am\", text)\n",
    "    \n",
    "    # specific\n",
    "    text = re.sub(r\"won\\'t\", \"will not\", text)\n",
    "    text = re.sub(r\"can\\'t\", \"can not\", text)\n",
    "    return text\n",
    "\n",
    "df_train['text'] = df_train['text'].apply(lambda x : change_contraction_verb(x))\n",
    "df_test['text'] = df_test['text'].apply(lambda x : change_contraction_verb(x))"
   ]
  },
  {
   "cell_type": "code",
   "execution_count": 10,
   "id": "9787e903",
   "metadata": {
    "execution": {
     "iopub.execute_input": "2024-02-15T06:58:29.557231Z",
     "iopub.status.busy": "2024-02-15T06:58:29.556787Z",
     "iopub.status.idle": "2024-02-15T06:58:29.568031Z",
     "shell.execute_reply": "2024-02-15T06:58:29.566737Z"
    },
    "papermill": {
     "duration": 0.030853,
     "end_time": "2024-02-15T06:58:29.570944",
     "exception": false,
     "start_time": "2024-02-15T06:58:29.540091",
     "status": "completed"
    },
    "tags": []
   },
   "outputs": [
    {
     "data": {
      "text/html": [
       "<div>\n",
       "<style scoped>\n",
       "    .dataframe tbody tr th:only-of-type {\n",
       "        vertical-align: middle;\n",
       "    }\n",
       "\n",
       "    .dataframe tbody tr th {\n",
       "        vertical-align: top;\n",
       "    }\n",
       "\n",
       "    .dataframe thead th {\n",
       "        text-align: right;\n",
       "    }\n",
       "</style>\n",
       "<table border=\"1\" class=\"dataframe\">\n",
       "  <thead>\n",
       "    <tr style=\"text-align: right;\">\n",
       "      <th></th>\n",
       "      <th>text</th>\n",
       "      <th>target</th>\n",
       "    </tr>\n",
       "  </thead>\n",
       "  <tbody>\n",
       "    <tr>\n",
       "      <th>0</th>\n",
       "      <td>Our Deeds are the Reason of this #earthquake M...</td>\n",
       "      <td>1</td>\n",
       "    </tr>\n",
       "    <tr>\n",
       "      <th>1</th>\n",
       "      <td>Forest fire near La Ronge Sask. Canada</td>\n",
       "      <td>1</td>\n",
       "    </tr>\n",
       "    <tr>\n",
       "      <th>2</th>\n",
       "      <td>All residents asked to  ishelter in place' are...</td>\n",
       "      <td>1</td>\n",
       "    </tr>\n",
       "    <tr>\n",
       "      <th>3</th>\n",
       "      <td>13,000 people receive #wildfires evacuation or...</td>\n",
       "      <td>1</td>\n",
       "    </tr>\n",
       "    <tr>\n",
       "      <th>4</th>\n",
       "      <td>Just got sent this photo from Ruby #Alaska as ...</td>\n",
       "      <td>1</td>\n",
       "    </tr>\n",
       "  </tbody>\n",
       "</table>\n",
       "</div>"
      ],
      "text/plain": [
       "                                                text  target\n",
       "0  Our Deeds are the Reason of this #earthquake M...       1\n",
       "1             Forest fire near La Ronge Sask. Canada       1\n",
       "2  All residents asked to  ishelter in place' are...       1\n",
       "3  13,000 people receive #wildfires evacuation or...       1\n",
       "4  Just got sent this photo from Ruby #Alaska as ...       1"
      ]
     },
     "execution_count": 10,
     "metadata": {},
     "output_type": "execute_result"
    }
   ],
   "source": [
    "df_train.head()"
   ]
  },
  {
   "cell_type": "code",
   "execution_count": 11,
   "id": "4c53cd23",
   "metadata": {
    "execution": {
     "iopub.execute_input": "2024-02-15T06:58:29.604310Z",
     "iopub.status.busy": "2024-02-15T06:58:29.603882Z",
     "iopub.status.idle": "2024-02-15T06:58:31.971492Z",
     "shell.execute_reply": "2024-02-15T06:58:31.970390Z"
    },
    "papermill": {
     "duration": 2.388444,
     "end_time": "2024-02-15T06:58:31.974962",
     "exception": false,
     "start_time": "2024-02-15T06:58:29.586518",
     "status": "completed"
    },
    "tags": []
   },
   "outputs": [
    {
     "name": "stderr",
     "output_type": "stream",
     "text": [
      "/home/fernando/anaconda3/lib/python3.9/site-packages/scipy/__init__.py:146: UserWarning: A NumPy version >=1.16.5 and <1.23.0 is required for this version of SciPy (detected version 1.26.4\n",
      "  warnings.warn(f\"A NumPy version >={np_minversion} and <{np_maxversion}\"\n"
     ]
    }
   ],
   "source": [
    "import nltk\n",
    "from nltk.corpus import stopwords\n",
    "from nltk.stem import PorterStemmer\n",
    "import string\n",
    "\n",
    "stop_words = set(stopwords.words('english'))\n",
    "ps = PorterStemmer()\n",
    "\n",
    "def transform_text(text):\n",
    "    \n",
    "    text = text.lower()\n",
    "    text = re.sub('\\[.*?\\]', '', text)\n",
    "    text = re.sub(\"\\\\W\",\" \",text)\n",
    "    text = re.sub('https?://\\S+|www\\.\\S+', '', text)\n",
    "    text = re.sub('\\n', '', text)\n",
    "    text = nltk.word_tokenize(text)\n",
    "    \n",
    "    text = [ps.stem(word) for word in text if word.isalnum() and word not in stop_words and word not in string.punctuation]\n",
    "    \n",
    "    return \" \".join(text)\n"
   ]
  },
  {
   "cell_type": "code",
   "execution_count": 12,
   "id": "f98b66f4",
   "metadata": {
    "execution": {
     "iopub.execute_input": "2024-02-15T06:58:32.012155Z",
     "iopub.status.busy": "2024-02-15T06:58:32.011624Z",
     "iopub.status.idle": "2024-02-15T06:58:37.329511Z",
     "shell.execute_reply": "2024-02-15T06:58:37.327933Z"
    },
    "papermill": {
     "duration": 5.338831,
     "end_time": "2024-02-15T06:58:37.332640",
     "exception": false,
     "start_time": "2024-02-15T06:58:31.993809",
     "status": "completed"
    },
    "tags": []
   },
   "outputs": [],
   "source": [
    "df_train['text'] = df_train['text'].apply(transform_text)"
   ]
  },
  {
   "cell_type": "code",
   "execution_count": 13,
   "id": "7575f055",
   "metadata": {
    "execution": {
     "iopub.execute_input": "2024-02-15T06:58:37.366681Z",
     "iopub.status.busy": "2024-02-15T06:58:37.366166Z",
     "iopub.status.idle": "2024-02-15T06:58:37.517130Z",
     "shell.execute_reply": "2024-02-15T06:58:37.515529Z"
    },
    "papermill": {
     "duration": 0.170701,
     "end_time": "2024-02-15T06:58:37.519920",
     "exception": false,
     "start_time": "2024-02-15T06:58:37.349219",
     "status": "completed"
    },
    "tags": []
   },
   "outputs": [
    {
     "data": {
      "image/png": "[encoded data removed]",
      "text/plain": [
       "<Figure size 432x288 with 1 Axes>"
      ]
     },
     "metadata": {},
     "output_type": "display_data"
    }
   ],
   "source": [
    "import matplotlib.pyplot as plt\n",
    "plt.pie(df_train['target'].value_counts(), labels=['0','1'],autopct=\"%0.2f\")\n",
    "plt.show()\n"
   ]
  },
  {
   "cell_type": "code",
   "execution_count": 14,
   "id": "3c95d3f6",
   "metadata": {
    "execution": {
     "iopub.execute_input": "2024-02-15T06:58:37.553184Z",
     "iopub.status.busy": "2024-02-15T06:58:37.552658Z",
     "iopub.status.idle": "2024-02-15T06:58:37.559347Z",
     "shell.execute_reply": "2024-02-15T06:58:37.557890Z"
    },
    "papermill": {
     "duration": 0.02605,
     "end_time": "2024-02-15T06:58:37.561635",
     "exception": false,
     "start_time": "2024-02-15T06:58:37.535585",
     "status": "completed"
    },
    "tags": []
   },
   "outputs": [],
   "source": [
    "from sklearn.feature_extraction.text import CountVectorizer,TfidfVectorizer\n",
    "cv = CountVectorizer(max_features=3000)\n",
    "tfidf = TfidfVectorizer(max_features=3000)"
   ]
  },
  {
   "cell_type": "code",
   "execution_count": 15,
   "id": "a204a3da",
   "metadata": {
    "execution": {
     "iopub.execute_input": "2024-02-15T06:58:37.595478Z",
     "iopub.status.busy": "2024-02-15T06:58:37.594749Z",
     "iopub.status.idle": "2024-02-15T06:58:38.418556Z",
     "shell.execute_reply": "2024-02-15T06:58:38.417072Z"
    },
    "papermill": {
     "duration": 0.844273,
     "end_time": "2024-02-15T06:58:38.421707",
     "exception": false,
     "start_time": "2024-02-15T06:58:37.577434",
     "status": "completed"
    },
    "tags": []
   },
   "outputs": [],
   "source": [
    "X_tf = tfidf.fit_transform(df_train['text']).toarray()\n",
    "y = df_train['target'].values\n",
    "X_cv = cv.fit_transform(df_train['text']).toarray()\n"
   ]
  },
  {
   "cell_type": "code",
   "execution_count": 16,
   "id": "da1088d0",
   "metadata": {
    "execution": {
     "iopub.execute_input": "2024-02-15T06:58:38.455393Z",
     "iopub.status.busy": "2024-02-15T06:58:38.454493Z",
     "iopub.status.idle": "2024-02-15T06:58:38.694589Z",
     "shell.execute_reply": "2024-02-15T06:58:38.693469Z"
    },
    "papermill": {
     "duration": 0.260186,
     "end_time": "2024-02-15T06:58:38.697427",
     "exception": false,
     "start_time": "2024-02-15T06:58:38.437241",
     "status": "completed"
    },
    "tags": []
   },
   "outputs": [],
   "source": [
    "from sklearn.model_selection import train_test_split\n",
    "X_train_tf,X_val_tf,y_train_tf,y_val_tf = train_test_split(X_tf,y,test_size=0.2,random_state=2)\n",
    "X_train_cv,X_val_cv,y_train_cv,y_val_cv = train_test_split(X_cv,y,test_size=0.2,random_state=2)"
   ]
  },
  {
   "cell_type": "code",
   "execution_count": 17,
   "id": "cc68e42a",
   "metadata": {
    "execution": {
     "iopub.execute_input": "2024-02-15T06:58:38.731052Z",
     "iopub.status.busy": "2024-02-15T06:58:38.730303Z",
     "iopub.status.idle": "2024-02-15T06:58:38.739249Z",
     "shell.execute_reply": "2024-02-15T06:58:38.737987Z"
    },
    "papermill": {
     "duration": 0.029002,
     "end_time": "2024-02-15T06:58:38.742086",
     "exception": false,
     "start_time": "2024-02-15T06:58:38.713084",
     "status": "completed"
    },
    "tags": []
   },
   "outputs": [],
   "source": [
    "from sklearn.naive_bayes import GaussianNB,MultinomialNB,BernoulliNB\n",
    "from sklearn.metrics import accuracy_score,confusion_matrix,precision_score"
   ]
  },
  {
   "cell_type": "code",
   "execution_count": 18,
   "id": "2ec8137f",
   "metadata": {
    "execution": {
     "iopub.execute_input": "2024-02-15T06:58:38.775635Z",
     "iopub.status.busy": "2024-02-15T06:58:38.774840Z",
     "iopub.status.idle": "2024-02-15T06:58:38.780058Z",
     "shell.execute_reply": "2024-02-15T06:58:38.779135Z"
    },
    "papermill": {
     "duration": 0.02473,
     "end_time": "2024-02-15T06:58:38.782553",
     "exception": false,
     "start_time": "2024-02-15T06:58:38.757823",
     "status": "completed"
    },
    "tags": []
   },
   "outputs": [],
   "source": [
    "gnb = GaussianNB()\n",
    "mnb = MultinomialNB()\n",
    "bnb = BernoulliNB()"
   ]
  },
  {
   "cell_type": "code",
   "execution_count": 19,
   "id": "32cf7b4e",
   "metadata": {
    "execution": {
     "iopub.execute_input": "2024-02-15T06:58:38.816508Z",
     "iopub.status.busy": "2024-02-15T06:58:38.815783Z",
     "iopub.status.idle": "2024-02-15T06:58:39.637980Z",
     "shell.execute_reply": "2024-02-15T06:58:39.636833Z"
    },
    "papermill": {
     "duration": 0.842073,
     "end_time": "2024-02-15T06:58:39.640751",
     "exception": false,
     "start_time": "2024-02-15T06:58:38.798678",
     "status": "completed"
    },
    "tags": []
   },
   "outputs": [
    {
     "name": "stdout",
     "output_type": "stream",
     "text": [
      "For CountVectorizer\n",
      "0.6401838476690742\n",
      "[[448 422]\n",
      " [126 527]]\n",
      "0.5553213909378293\n",
      "\n",
      "\n",
      " For Tfidf\n",
      "0.6467498358502954\n",
      "[[473 397]\n",
      " [141 512]]\n",
      "0.5632563256325632\n"
     ]
    }
   ],
   "source": [
    "print(\"For CountVectorizer\")\n",
    "gnb.fit(X_train_cv,y_train_cv)\n",
    "y_pred1 = gnb.predict(X_val_cv)\n",
    "print(accuracy_score(y_val_cv,y_pred1))\n",
    "print(confusion_matrix(y_val_cv,y_pred1))\n",
    "print(precision_score(y_val_cv,y_pred1))\n",
    "print('\\n')\n",
    "print(\" For Tfidf\")\n",
    "gnb.fit(X_train_tf,y_train_tf)\n",
    "y_pred1 = gnb.predict(X_val_tf)\n",
    "print(accuracy_score(y_val_tf,y_pred1))\n",
    "print(confusion_matrix(y_val_tf,y_pred1))\n",
    "print(precision_score(y_val_tf,y_pred1))"
   ]
  },
  {
   "cell_type": "code",
   "execution_count": 20,
   "id": "e9badac6",
   "metadata": {
    "execution": {
     "iopub.execute_input": "2024-02-15T06:58:39.674127Z",
     "iopub.status.busy": "2024-02-15T06:58:39.673580Z",
     "iopub.status.idle": "2024-02-15T06:58:40.467852Z",
     "shell.execute_reply": "2024-02-15T06:58:40.466176Z"
    },
    "papermill": {
     "duration": 0.816533,
     "end_time": "2024-02-15T06:58:40.472972",
     "exception": false,
     "start_time": "2024-02-15T06:58:39.656439",
     "status": "completed"
    },
    "tags": []
   },
   "outputs": [
    {
     "name": "stdout",
     "output_type": "stream",
     "text": [
      "For CountVectorizer\n",
      "0.8082731451083388\n",
      "[[773  97]\n",
      " [195 458]]\n",
      "0.8252252252252252\n",
      "\n",
      "\n",
      " For Tfidf\n",
      "0.8082731451083388\n",
      "[[773  97]\n",
      " [195 458]]\n",
      "0.8252252252252252\n"
     ]
    }
   ],
   "source": [
    "print(\"For CountVectorizer\")\n",
    "bnb.fit(X_train_cv,y_train_cv)\n",
    "y_pred1_cv = bnb.predict(X_val_cv)\n",
    "print(accuracy_score(y_val_cv,y_pred1_cv))\n",
    "print(confusion_matrix(y_val_cv,y_pred1_cv))\n",
    "print(precision_score(y_val_cv,y_pred1_cv))\n",
    "print('\\n')\n",
    "print(\" For Tfidf\")\n",
    "bnb.fit(X_train_tf,y_train_tf)\n",
    "y_pred1 = bnb.predict(X_val_tf)\n",
    "print(accuracy_score(y_val_tf,y_pred1))\n",
    "print(confusion_matrix(y_val_tf,y_pred1))\n",
    "print(precision_score(y_val_tf,y_pred1))"
   ]
  },
  {
   "cell_type": "code",
   "execution_count": 21,
   "id": "c3c3348a",
   "metadata": {
    "execution": {
     "iopub.execute_input": "2024-02-15T06:58:40.545175Z",
     "iopub.status.busy": "2024-02-15T06:58:40.544503Z",
     "iopub.status.idle": "2024-02-15T06:58:40.845632Z",
     "shell.execute_reply": "2024-02-15T06:58:40.844155Z"
    },
    "papermill": {
     "duration": 0.34242,
     "end_time": "2024-02-15T06:58:40.850321",
     "exception": false,
     "start_time": "2024-02-15T06:58:40.507901",
     "status": "completed"
    },
    "tags": []
   },
   "outputs": [
    {
     "name": "stdout",
     "output_type": "stream",
     "text": [
      "For CountVectorizer\n",
      "0.8063033486539725\n",
      "[[746 124]\n",
      " [171 482]]\n",
      "0.7953795379537953\n",
      "\n",
      "\n",
      " For Tfidf\n",
      "0.7997373604727511\n",
      "[[771  99]\n",
      " [206 447]]\n",
      "0.8186813186813187\n"
     ]
    }
   ],
   "source": [
    "print(\"For CountVectorizer\")\n",
    "mnb.fit(X_train_cv,y_train_cv)\n",
    "y_pred1_cv = mnb.predict(X_val_cv)\n",
    "print(accuracy_score(y_val_cv,y_pred1_cv))\n",
    "print(confusion_matrix(y_val_cv,y_pred1_cv))\n",
    "print(precision_score(y_val_cv,y_pred1_cv))\n",
    "print('\\n')\n",
    "print(\" For Tfidf\")\n",
    "mnb.fit(X_train_tf,y_train_tf)\n",
    "y_pred1 = mnb.predict(X_val_tf)\n",
    "print(accuracy_score(y_val_tf,y_pred1))\n",
    "print(confusion_matrix(y_val_tf,y_pred1))\n",
    "print(precision_score(y_val_tf,y_pred1))"
   ]
  },
  {
   "cell_type": "code",
   "execution_count": 22,
   "id": "6596f476",
   "metadata": {
    "execution": {
     "iopub.execute_input": "2024-02-15T06:58:40.922342Z",
     "iopub.status.busy": "2024-02-15T06:58:40.921662Z",
     "iopub.status.idle": "2024-02-15T06:58:41.119516Z",
     "shell.execute_reply": "2024-02-15T06:58:41.118125Z"
    },
    "papermill": {
     "duration": 0.237449,
     "end_time": "2024-02-15T06:58:41.122450",
     "exception": false,
     "start_time": "2024-02-15T06:58:40.885001",
     "status": "completed"
    },
    "tags": []
   },
   "outputs": [],
   "source": [
    "from sklearn.linear_model import LogisticRegression\n",
    "from sklearn.svm import SVC\n",
    "from sklearn.tree import DecisionTreeClassifier\n",
    "from sklearn.neighbors import KNeighborsClassifier\n",
    "from sklearn.ensemble import RandomForestClassifier"
   ]
  },
  {
   "cell_type": "code",
   "execution_count": 23,
   "id": "9caad044",
   "metadata": {
    "execution": {
     "iopub.execute_input": "2024-02-15T06:58:41.157519Z",
     "iopub.status.busy": "2024-02-15T06:58:41.156834Z",
     "iopub.status.idle": "2024-02-15T06:58:41.162834Z",
     "shell.execute_reply": "2024-02-15T06:58:41.162049Z"
    },
    "papermill": {
     "duration": 0.025814,
     "end_time": "2024-02-15T06:58:41.165026",
     "exception": false,
     "start_time": "2024-02-15T06:58:41.139212",
     "status": "completed"
    },
    "tags": []
   },
   "outputs": [],
   "source": [
    "svc = SVC(kernel='sigmoid', gamma=1.0)\n",
    "knc = KNeighborsClassifier()\n",
    "dtc = DecisionTreeClassifier(max_depth=5)\n",
    "lrc = LogisticRegression(solver='liblinear', penalty='l1')\n",
    "rfc = RandomForestClassifier(n_estimators=50, random_state=2)"
   ]
  },
  {
   "cell_type": "code",
   "execution_count": 24,
   "id": "60caff23",
   "metadata": {
    "execution": {
     "iopub.execute_input": "2024-02-15T06:58:41.198861Z",
     "iopub.status.busy": "2024-02-15T06:58:41.198206Z",
     "iopub.status.idle": "2024-02-15T06:58:41.204176Z",
     "shell.execute_reply": "2024-02-15T06:58:41.203271Z"
    },
    "papermill": {
     "duration": 0.025571,
     "end_time": "2024-02-15T06:58:41.206433",
     "exception": false,
     "start_time": "2024-02-15T06:58:41.180862",
     "status": "completed"
    },
    "tags": []
   },
   "outputs": [],
   "source": [
    "def train_classifier(clf,X_train,y_train,X_val,y_val):\n",
    "    clf.fit(X_train,y_train)\n",
    "    y_pred = clf.predict(X_val)\n",
    "    accuracy = accuracy_score(y_val,y_pred)\n",
    "    precision = precision_score(y_val,y_pred)\n",
    "    \n",
    "    return accuracy,precision"
   ]
  },
  {
   "cell_type": "code",
   "execution_count": 25,
   "id": "0abb8a36",
   "metadata": {
    "execution": {
     "iopub.execute_input": "2024-02-15T06:58:41.240835Z",
     "iopub.status.busy": "2024-02-15T06:58:41.240169Z",
     "iopub.status.idle": "2024-02-15T06:58:41.245405Z",
     "shell.execute_reply": "2024-02-15T06:58:41.244595Z"
    },
    "papermill": {
     "duration": 0.025494,
     "end_time": "2024-02-15T06:58:41.247765",
     "exception": false,
     "start_time": "2024-02-15T06:58:41.222271",
     "status": "completed"
    },
    "tags": []
   },
   "outputs": [],
   "source": [
    "clfs = {\n",
    "    'SVC' : svc,\n",
    "    'KN' : knc, \n",
    "    'NB': mnb, \n",
    "    'DT': dtc, \n",
    "    'LR': lrc, \n",
    "    'RF': rfc, \n",
    "}"
   ]
  },
  {
   "cell_type": "code",
   "execution_count": 26,
   "id": "2b35b592",
   "metadata": {
    "execution": {
     "iopub.execute_input": "2024-02-15T06:58:41.281604Z",
     "iopub.status.busy": "2024-02-15T06:58:41.280959Z",
     "iopub.status.idle": "2024-02-15T07:00:34.161524Z",
     "shell.execute_reply": "2024-02-15T07:00:34.159145Z"
    },
    "papermill": {
     "duration": 112.901198,
     "end_time": "2024-02-15T07:00:34.164765",
     "exception": false,
     "start_time": "2024-02-15T06:58:41.263567",
     "status": "completed"
    },
    "tags": []
   },
   "outputs": [
    {
     "name": "stdout",
     "output_type": "stream",
     "text": [
      "For  SVC\n",
      "Accuracy -  0.7957977675640184\n",
      "Precision -  0.8064516129032258\n",
      "For  KN\n",
      "Accuracy -  0.6723571897570584\n",
      "Precision -  0.9375\n",
      "For  NB\n",
      "Accuracy -  0.7997373604727511\n",
      "Precision -  0.8186813186813187\n",
      "For  DT\n",
      "Accuracy -  0.6565988181221274\n",
      "Precision -  0.6326530612244898\n",
      "For  LR\n",
      "Accuracy -  0.7852921864740644\n",
      "Precision -  0.7963636363636364\n",
      "For  RF\n",
      "Accuracy -  0.7820091923834537\n",
      "Precision -  0.8092485549132948\n"
     ]
    }
   ],
   "source": [
    "accuracy_scores = []\n",
    "precision_scores = []\n",
    "\n",
    "for name,clf in clfs.items():\n",
    "    \n",
    "    current_accuracy,current_precision = train_classifier(clf, X_train_tf,y_train_tf,X_val_tf,y_val_tf)\n",
    "    \n",
    "    print(\"For \",name)\n",
    "    print(\"Accuracy - \",current_accuracy)\n",
    "    print(\"Precision - \",current_precision)\n",
    "    \n",
    "    accuracy_scores.append(current_accuracy)\n",
    "    precision_scores.append(current_precision)"
   ]
  },
  {
   "cell_type": "code",
   "execution_count": 27,
   "id": "81397a7f",
   "metadata": {
    "execution": {
     "iopub.execute_input": "2024-02-15T07:00:34.201889Z",
     "iopub.status.busy": "2024-02-15T07:00:34.200848Z",
     "iopub.status.idle": "2024-02-15T07:00:34.218155Z",
     "shell.execute_reply": "2024-02-15T07:00:34.216893Z"
    },
    "papermill": {
     "duration": 0.039571,
     "end_time": "2024-02-15T07:00:34.221185",
     "exception": false,
     "start_time": "2024-02-15T07:00:34.181614",
     "status": "completed"
    },
    "tags": []
   },
   "outputs": [
    {
     "data": {
      "text/html": [
       "<div>\n",
       "<style scoped>\n",
       "    .dataframe tbody tr th:only-of-type {\n",
       "        vertical-align: middle;\n",
       "    }\n",
       "\n",
       "    .dataframe tbody tr th {\n",
       "        vertical-align: top;\n",
       "    }\n",
       "\n",
       "    .dataframe thead th {\n",
       "        text-align: right;\n",
       "    }\n",
       "</style>\n",
       "<table border=\"1\" class=\"dataframe\">\n",
       "  <thead>\n",
       "    <tr style=\"text-align: right;\">\n",
       "      <th></th>\n",
       "      <th>Algorithm</th>\n",
       "      <th>Accuracy</th>\n",
       "      <th>Precision</th>\n",
       "    </tr>\n",
       "  </thead>\n",
       "  <tbody>\n",
       "    <tr>\n",
       "      <th>1</th>\n",
       "      <td>KN</td>\n",
       "      <td>0.672357</td>\n",
       "      <td>0.937500</td>\n",
       "    </tr>\n",
       "    <tr>\n",
       "      <th>2</th>\n",
       "      <td>NB</td>\n",
       "      <td>0.799737</td>\n",
       "      <td>0.818681</td>\n",
       "    </tr>\n",
       "    <tr>\n",
       "      <th>5</th>\n",
       "      <td>RF</td>\n",
       "      <td>0.782009</td>\n",
       "      <td>0.809249</td>\n",
       "    </tr>\n",
       "    <tr>\n",
       "      <th>0</th>\n",
       "      <td>SVC</td>\n",
       "      <td>0.795798</td>\n",
       "      <td>0.806452</td>\n",
       "    </tr>\n",
       "    <tr>\n",
       "      <th>4</th>\n",
       "      <td>LR</td>\n",
       "      <td>0.785292</td>\n",
       "      <td>0.796364</td>\n",
       "    </tr>\n",
       "    <tr>\n",
       "      <th>3</th>\n",
       "      <td>DT</td>\n",
       "      <td>0.656599</td>\n",
       "      <td>0.632653</td>\n",
       "    </tr>\n",
       "  </tbody>\n",
       "</table>\n",
       "</div>"
      ],
      "text/plain": [
       "  Algorithm  Accuracy  Precision\n",
       "1        KN  0.672357   0.937500\n",
       "2        NB  0.799737   0.818681\n",
       "5        RF  0.782009   0.809249\n",
       "0       SVC  0.795798   0.806452\n",
       "4        LR  0.785292   0.796364\n",
       "3        DT  0.656599   0.632653"
      ]
     },
     "execution_count": 27,
     "metadata": {},
     "output_type": "execute_result"
    }
   ],
   "source": [
    "performance_df = pd.DataFrame({'Algorithm':clfs.keys(),'Accuracy':accuracy_scores,'Precision':precision_scores}).sort_values('Precision',ascending=False)\n",
    "performance_df"
   ]
  },
  {
   "cell_type": "code",
   "execution_count": 28,
   "id": "31be785e",
   "metadata": {
    "execution": {
     "iopub.execute_input": "2024-02-15T07:00:34.260249Z",
     "iopub.status.busy": "2024-02-15T07:00:34.259451Z",
     "iopub.status.idle": "2024-02-15T07:00:36.570235Z",
     "shell.execute_reply": "2024-02-15T07:00:36.568746Z"
    },
    "papermill": {
     "duration": 2.332504,
     "end_time": "2024-02-15T07:00:36.573534",
     "exception": false,
     "start_time": "2024-02-15T07:00:34.241030",
     "status": "completed"
    },
    "tags": []
   },
   "outputs": [],
   "source": [
    "df_test['text'] = df_test['text'].apply(transform_text)"
   ]
  },
  {
   "cell_type": "code",
   "execution_count": 29,
   "id": "92597143",
   "metadata": {
    "execution": {
     "iopub.execute_input": "2024-02-15T07:00:36.610872Z",
     "iopub.status.busy": "2024-02-15T07:00:36.610392Z",
     "iopub.status.idle": "2024-02-15T07:00:36.844957Z",
     "shell.execute_reply": "2024-02-15T07:00:36.843379Z"
    },
    "papermill": {
     "duration": 0.257943,
     "end_time": "2024-02-15T07:00:36.849274",
     "exception": false,
     "start_time": "2024-02-15T07:00:36.591331",
     "status": "completed"
    },
    "tags": []
   },
   "outputs": [
    {
     "data": {
      "text/plain": [
       "array([0, 0, 0, ..., 0, 1, 0])"
      ]
     },
     "execution_count": 29,
     "metadata": {},
     "output_type": "execute_result"
    }
   ],
   "source": [
    "test_tf = tfidf.fit_transform(df_test['text']).toarray()\n",
    "predictions_nb = mnb.predict(test_tf)\n",
    "predictions_nb"
   ]
  },
  {
   "cell_type": "code",
   "execution_count": 30,
   "id": "77f9e828",
   "metadata": {
    "execution": {
     "iopub.execute_input": "2024-02-15T07:00:36.926952Z",
     "iopub.status.busy": "2024-02-15T07:00:36.926232Z",
     "iopub.status.idle": "2024-02-15T07:00:36.934321Z",
     "shell.execute_reply": "2024-02-15T07:00:36.932265Z"
    },
    "papermill": {
     "duration": 0.052293,
     "end_time": "2024-02-15T07:00:36.938698",
     "exception": false,
     "start_time": "2024-02-15T07:00:36.886405",
     "status": "completed"
    },
    "tags": []
   },
   "outputs": [],
   "source": [
    "X = df_train['text']\n",
    "y = df_train['target']"
   ]
  },
  {
   "cell_type": "code",
   "execution_count": 31,
   "id": "e76941a1",
   "metadata": {
    "execution": {
     "iopub.execute_input": "2024-02-15T07:00:36.985221Z",
     "iopub.status.busy": "2024-02-15T07:00:36.984819Z",
     "iopub.status.idle": "2024-02-15T07:00:54.451040Z",
     "shell.execute_reply": "2024-02-15T07:00:54.449539Z"
    },
    "papermill": {
     "duration": 17.488279,
     "end_time": "2024-02-15T07:00:54.454228",
     "exception": false,
     "start_time": "2024-02-15T07:00:36.965949",
     "status": "completed"
    },
    "tags": []
   },
   "outputs": [
    {
     "name": "stderr",
     "output_type": "stream",
     "text": [
      "2024-02-29 14:27:10.601376: I external/local_tsl/tsl/cuda/cudart_stub.cc:31] Could not find cuda drivers on your machine, GPU will not be used.\n",
      "2024-02-29 14:27:10.758408: E external/local_xla/xla/stream_executor/cuda/cuda_dnn.cc:9261] Unable to register cuDNN factory: Attempting to register factory for plugin cuDNN when one has already been registered\n",
      "2024-02-29 14:27:10.758456: E external/local_xla/xla/stream_executor/cuda/cuda_fft.cc:607] Unable to register cuFFT factory: Attempting to register factory for plugin cuFFT when one has already been registered\n",
      "2024-02-29 14:27:10.782858: E external/local_xla/xla/stream_executor/cuda/cuda_blas.cc:1515] Unable to register cuBLAS factory: Attempting to register factory for plugin cuBLAS when one has already been registered\n",
      "2024-02-29 14:27:10.844075: I external/local_tsl/tsl/cuda/cudart_stub.cc:31] Could not find cuda drivers on your machine, GPU will not be used.\n",
      "2024-02-29 14:27:10.845498: I tensorflow/core/platform/cpu_feature_guard.cc:182] This TensorFlow binary is optimized to use available CPU instructions in performance-critical operations.\n",
      "To enable the following instructions: AVX2 FMA, in other operations, rebuild TensorFlow with the appropriate compiler flags.\n",
      "2024-02-29 14:27:11.969606: W tensorflow/compiler/tf2tensorrt/utils/py_utils.cc:38] TF-TRT Warning: Could not find TensorRT\n"
     ]
    }
   ],
   "source": [
    "from tensorflow.keras.preprocessing.text import Tokenizer\n",
    "from tensorflow.keras.preprocessing.sequence import pad_sequences\n",
    "from tensorflow.keras.layers import Bidirectional,Embedding,Dense,Dropout,LSTM,BatchNormalization\n",
    "from tensorflow.keras.regularizers import l2,l1\n",
    "from tensorflow.keras.optimizers import Adam\n",
    "from tensorflow.keras.callbacks import EarlyStopping"
   ]
  },
  {
   "cell_type": "code",
   "execution_count": 32,
   "id": "525a4947",
   "metadata": {
    "execution": {
     "iopub.execute_input": "2024-02-15T07:00:54.572680Z",
     "iopub.status.busy": "2024-02-15T07:00:54.571778Z",
     "iopub.status.idle": "2024-02-15T07:00:54.582888Z",
     "shell.execute_reply": "2024-02-15T07:00:54.581881Z"
    },
    "papermill": {
     "duration": 0.033584,
     "end_time": "2024-02-15T07:00:54.585820",
     "exception": false,
     "start_time": "2024-02-15T07:00:54.552236",
     "status": "completed"
    },
    "tags": []
   },
   "outputs": [],
   "source": [
    "import tensorflow as tf\n",
    "from sklearn.model_selection import train_test_split\n",
    "\n",
    "X_train, X_test, y_train, y_test = train_test_split(X, y, test_size=0.2, random_state=100)"
   ]
  },
  {
   "cell_type": "code",
   "execution_count": 33,
   "id": "9fa73784",
   "metadata": {
    "execution": {
     "iopub.execute_input": "2024-02-15T07:00:54.625158Z",
     "iopub.status.busy": "2024-02-15T07:00:54.624676Z",
     "iopub.status.idle": "2024-02-15T07:00:55.028357Z",
     "shell.execute_reply": "2024-02-15T07:00:55.027278Z"
    },
    "papermill": {
     "duration": 0.42618,
     "end_time": "2024-02-15T07:00:55.031224",
     "exception": false,
     "start_time": "2024-02-15T07:00:54.605044",
     "status": "completed"
    },
    "tags": []
   },
   "outputs": [],
   "source": [
    "#Hyperparameters\n",
    "vocab_size = 200000\n",
    "max_len = 150\n",
    "\n",
    "tokenizer = Tokenizer(oov_token='<OOV')\n",
    "\n",
    "tokenizer.fit_on_texts(X)\n",
    "word_index = tokenizer.word_index\n",
    "\n",
    "sequences = tokenizer.texts_to_sequences(X_train)\n",
    "padded = pad_sequences(sequences, truncating=\"post\")\n",
    "\n",
    "testing_sequences = tokenizer.texts_to_sequences(X_test)\n",
    "testing_padded = pad_sequences(testing_sequences, truncating='post')"
   ]
  },
  {
   "cell_type": "code",
   "execution_count": 34,
   "id": "dff3e69a",
   "metadata": {
    "execution": {
     "iopub.execute_input": "2024-02-15T07:00:55.067789Z",
     "iopub.status.busy": "2024-02-15T07:00:55.067271Z",
     "iopub.status.idle": "2024-02-15T07:00:56.116594Z",
     "shell.execute_reply": "2024-02-15T07:00:56.115218Z"
    },
    "papermill": {
     "duration": 1.082416,
     "end_time": "2024-02-15T07:00:56.130844",
     "exception": false,
     "start_time": "2024-02-15T07:00:55.048428",
     "status": "completed"
    },
    "scrolled": false,
    "tags": []
   },
   "outputs": [
    {
     "name": "stderr",
     "output_type": "stream",
     "text": [
      "2024-02-29 14:27:13.271558: W external/local_tsl/tsl/framework/cpu_allocator_impl.cc:83] Allocation of 51200000 exceeds 10% of free system memory.\n",
      "2024-02-29 14:27:13.306099: W external/local_tsl/tsl/framework/cpu_allocator_impl.cc:83] Allocation of 51200000 exceeds 10% of free system memory.\n",
      "2024-02-29 14:27:13.333665: W external/local_tsl/tsl/framework/cpu_allocator_impl.cc:83] Allocation of 51200000 exceeds 10% of free system memory.\n"
     ]
    }
   ],
   "source": [
    "early_stopping = EarlyStopping(monitor='val_loss', patience=3, restore_best_weights=True)\n",
    "model = tf.keras.Sequential([\n",
    "    Embedding(vocab_size, 64),\n",
    "    BatchNormalization(),\n",
    "    Bidirectional(LSTM(32)),\n",
    "    BatchNormalization(),\n",
    "    Dropout(0.2),\n",
    "    Dense(1, activation='softmax'),\n",
    "\n",
    "    \n",
    "])\n"
   ]
  },
  {
   "cell_type": "code",
   "execution_count": 35,
   "id": "8a7a0e0a",
   "metadata": {
    "execution": {
     "iopub.execute_input": "2024-02-15T07:00:56.175320Z",
     "iopub.status.busy": "2024-02-15T07:00:56.174780Z",
     "iopub.status.idle": "2024-02-15T07:00:56.614329Z",
     "shell.execute_reply": "2024-02-15T07:00:56.613050Z"
    },
    "papermill": {
     "duration": 0.465428,
     "end_time": "2024-02-15T07:00:56.617659",
     "exception": false,
     "start_time": "2024-02-15T07:00:56.152231",
     "status": "completed"
    },
    "tags": []
   },
   "outputs": [],
   "source": [
    "model.compile(optimizer=Adam(learning_rate=0.001), loss=\"binary_crossentropy\", metrics=[\"accuracy\"])"
   ]
  },
  {
   "cell_type": "code",
   "execution_count": 36,
   "id": "f22ecab3",
   "metadata": {
    "execution": {
     "iopub.execute_input": "2024-02-15T07:00:56.659816Z",
     "iopub.status.busy": "2024-02-15T07:00:56.658612Z",
     "iopub.status.idle": "2024-02-15T07:06:26.811039Z",
     "shell.execute_reply": "2024-02-15T07:06:26.809058Z"
    },
    "papermill": {
     "duration": 330.177116,
     "end_time": "2024-02-15T07:06:26.814017",
     "exception": false,
     "start_time": "2024-02-15T07:00:56.636901",
     "status": "completed"
    },
    "scrolled": false,
    "tags": []
   },
   "outputs": [
    {
     "name": "stdout",
     "output_type": "stream",
     "text": [
      "Epoch 1/20\n"
     ]
    },
    {
     "name": "stderr",
     "output_type": "stream",
     "text": [
      "2024-02-29 14:27:14.787537: W external/local_tsl/tsl/framework/cpu_allocator_impl.cc:83] Allocation of 51200000 exceeds 10% of free system memory.\n",
      "2024-02-29 14:27:14.793974: W external/local_tsl/tsl/framework/cpu_allocator_impl.cc:83] Allocation of 51200000 exceeds 10% of free system memory.\n"
     ]
    },
    {
     "name": "stdout",
     "output_type": "stream",
     "text": [
      "191/191 [==============================] - 35s 169ms/step - loss: 0.5706 - accuracy: 0.4300 - val_loss: 0.6841 - val_accuracy: 0.4281\n",
      "Epoch 2/20\n",
      "191/191 [==============================] - 32s 167ms/step - loss: 0.2217 - accuracy: 0.4300 - val_loss: 0.6331 - val_accuracy: 0.4281\n",
      "Epoch 3/20\n",
      "191/191 [==============================] - 31s 165ms/step - loss: 0.0969 - accuracy: 0.4300 - val_loss: 0.5581 - val_accuracy: 0.4281\n",
      "Epoch 4/20\n",
      "191/191 [==============================] - 33s 174ms/step - loss: 0.0601 - accuracy: 0.4300 - val_loss: 0.7470 - val_accuracy: 0.4281\n",
      "Epoch 5/20\n",
      "191/191 [==============================] - 34s 177ms/step - loss: 0.0433 - accuracy: 0.4300 - val_loss: 0.7393 - val_accuracy: 0.4281\n",
      "Epoch 6/20\n",
      "191/191 [==============================] - 34s 178ms/step - loss: 0.0330 - accuracy: 0.4300 - val_loss: 0.8686 - val_accuracy: 0.4281\n"
     ]
    }
   ],
   "source": [
    "history = model.fit(padded,y_train, epochs=20, validation_data=(testing_padded, y_test), callbacks=[early_stopping])"
   ]
  },
  {
   "cell_type": "code",
   "execution_count": 37,
   "id": "cf72bfb8",
   "metadata": {
    "execution": {
     "iopub.execute_input": "2024-02-15T07:06:27.075635Z",
     "iopub.status.busy": "2024-02-15T07:06:27.074110Z",
     "iopub.status.idle": "2024-02-15T07:06:27.592638Z",
     "shell.execute_reply": "2024-02-15T07:06:27.591124Z"
    },
    "papermill": {
     "duration": 0.652478,
     "end_time": "2024-02-15T07:06:27.595370",
     "exception": false,
     "start_time": "2024-02-15T07:06:26.942892",
     "status": "completed"
    },
    "tags": []
   },
   "outputs": [
    {
     "data": {
      "image/png": "[encoded data removed]",
      "text/plain": [
       "<Figure size 432x288 with 1 Axes>"
      ]
     },
     "metadata": {
      "needs_background": "light"
     },
     "output_type": "display_data"
    },
    {
     "data": {
      "image/png": "[encoded data removed]",
      "text/plain": [
       "<Figure size 432x288 with 1 Axes>"
      ]
     },
     "metadata": {
      "needs_background": "light"
     },
     "output_type": "display_data"
    }
   ],
   "source": [
    "\n",
    "plt.plot(history.history['accuracy'])\n",
    "plt.plot(history.history['val_accuracy'])\n",
    "\n",
    "plt.title('model accuracy')\n",
    "plt.ylabel('accuracy')\n",
    "plt.xlabel('epoch')\n",
    "plt.legend(['train','test'], loc='upper left')\n",
    "plt.show()\n",
    "\n",
    "plt.plot(history.history['loss'])\n",
    "plt.plot(history.history['val_loss'])\n",
    "\n",
    "plt.title('model loss')\n",
    "plt.ylabel('loss')\n",
    "plt.xlabel('epoch')\n",
    "plt.legend(['train','test'], loc='upper left')\n",
    "plt.show()"
   ]
  },
  {
   "cell_type": "code",
   "execution_count": 38,
   "id": "214cd140",
   "metadata": {
    "execution": {
     "iopub.execute_input": "2024-02-15T07:06:27.860435Z",
     "iopub.status.busy": "2024-02-15T07:06:27.859984Z",
     "iopub.status.idle": "2024-02-15T07:06:27.881790Z",
     "shell.execute_reply": "2024-02-15T07:06:27.880671Z"
    },
    "papermill": {
     "duration": 0.156897,
     "end_time": "2024-02-15T07:06:27.884768",
     "exception": false,
     "start_time": "2024-02-15T07:06:27.727871",
     "status": "completed"
    },
    "tags": []
   },
   "outputs": [],
   "source": [
    "sample_submission=pd.read_csv('./nlp-getting-started/sample_submission.csv')\n",
    "idd=sample_submission['id']"
   ]
  },
  {
   "cell_type": "code",
   "execution_count": 39,
   "id": "48e266d5",
   "metadata": {
    "execution": {
     "iopub.execute_input": "2024-02-15T07:06:28.152902Z",
     "iopub.status.busy": "2024-02-15T07:06:28.152417Z",
     "iopub.status.idle": "2024-02-15T07:06:28.165680Z",
     "shell.execute_reply": "2024-02-15T07:06:28.164431Z"
    },
    "papermill": {
     "duration": 0.149309,
     "end_time": "2024-02-15T07:06:28.168291",
     "exception": false,
     "start_time": "2024-02-15T07:06:28.018982",
     "status": "completed"
    },
    "tags": []
   },
   "outputs": [
    {
     "data": {
      "text/html": [
       "<div>\n",
       "<style scoped>\n",
       "    .dataframe tbody tr th:only-of-type {\n",
       "        vertical-align: middle;\n",
       "    }\n",
       "\n",
       "    .dataframe tbody tr th {\n",
       "        vertical-align: top;\n",
       "    }\n",
       "\n",
       "    .dataframe thead th {\n",
       "        text-align: right;\n",
       "    }\n",
       "</style>\n",
       "<table border=\"1\" class=\"dataframe\">\n",
       "  <thead>\n",
       "    <tr style=\"text-align: right;\">\n",
       "      <th></th>\n",
       "      <th>id</th>\n",
       "      <th>Target</th>\n",
       "    </tr>\n",
       "  </thead>\n",
       "  <tbody>\n",
       "    <tr>\n",
       "      <th>0</th>\n",
       "      <td>0</td>\n",
       "      <td>0</td>\n",
       "    </tr>\n",
       "    <tr>\n",
       "      <th>1</th>\n",
       "      <td>2</td>\n",
       "      <td>0</td>\n",
       "    </tr>\n",
       "    <tr>\n",
       "      <th>2</th>\n",
       "      <td>3</td>\n",
       "      <td>0</td>\n",
       "    </tr>\n",
       "    <tr>\n",
       "      <th>3</th>\n",
       "      <td>9</td>\n",
       "      <td>0</td>\n",
       "    </tr>\n",
       "    <tr>\n",
       "      <th>4</th>\n",
       "      <td>11</td>\n",
       "      <td>1</td>\n",
       "    </tr>\n",
       "    <tr>\n",
       "      <th>5</th>\n",
       "      <td>12</td>\n",
       "      <td>0</td>\n",
       "    </tr>\n",
       "    <tr>\n",
       "      <th>6</th>\n",
       "      <td>21</td>\n",
       "      <td>0</td>\n",
       "    </tr>\n",
       "    <tr>\n",
       "      <th>7</th>\n",
       "      <td>22</td>\n",
       "      <td>1</td>\n",
       "    </tr>\n",
       "    <tr>\n",
       "      <th>8</th>\n",
       "      <td>27</td>\n",
       "      <td>0</td>\n",
       "    </tr>\n",
       "    <tr>\n",
       "      <th>9</th>\n",
       "      <td>29</td>\n",
       "      <td>1</td>\n",
       "    </tr>\n",
       "  </tbody>\n",
       "</table>\n",
       "</div>"
      ],
      "text/plain": [
       "   id  Target\n",
       "0   0       0\n",
       "1   2       0\n",
       "2   3       0\n",
       "3   9       0\n",
       "4  11       1\n",
       "5  12       0\n",
       "6  21       0\n",
       "7  22       1\n",
       "8  27       0\n",
       "9  29       1"
      ]
     },
     "execution_count": 39,
     "metadata": {},
     "output_type": "execute_result"
    }
   ],
   "source": [
    "sub_df = pd.DataFrame({\n",
    "    \"id\" : idd,\n",
    "    \"Target\": predictions_nb\n",
    "})\n",
    "sub_df.head(10)"
   ]
  },
  {
   "cell_type": "code",
   "execution_count": 40,
   "id": "f7b6ee9d",
   "metadata": {
    "execution": {
     "iopub.execute_input": "2024-02-15T07:06:28.437178Z",
     "iopub.status.busy": "2024-02-15T07:06:28.436388Z",
     "iopub.status.idle": "2024-02-15T07:06:28.450239Z",
     "shell.execute_reply": "2024-02-15T07:06:28.449121Z"
    },
    "papermill": {
     "duration": 0.151063,
     "end_time": "2024-02-15T07:06:28.453192",
     "exception": false,
     "start_time": "2024-02-15T07:06:28.302129",
     "status": "completed"
    },
    "tags": []
   },
   "outputs": [],
   "source": [
    "sub_df.to_csv(\"submission.csv\", index=False)"
   ]
  },
  {
   "cell_type": "code",
   "execution_count": 41,
   "id": "603b58dc",
   "metadata": {},
   "outputs": [],
   "source": [
    "test_phrases = pd.DataFrame(data = {'tweet_text': \n",
    "                            [\"Apocalypse lighting. #Spokane #wildfires\", \n",
    "                             \"No I don't like cold\", \n",
    "                            #  \"Birmingham Wholesale Market is ablaze BBC News - Fire breaks out at Birmingham's Wholesale Market http://t.co/irWqCEZWEU\", \n",
    "                            #  \"@RobynJilllian @WlSDOMTEETHS I feel like I'm going to do it on accident. Teesha is gonna come out??\"\n",
    "                             ]})\n",
    "# test_phrases = test_phrases[\"tweet_text\"].apply(transform_text)"
   ]
  },
  {
   "cell_type": "code",
   "execution_count": 42,
   "id": "62907ef8",
   "metadata": {},
   "outputs": [
    {
     "data": {
      "text/plain": [
       "array([0, 0, 0, ..., 0, 1, 0])"
      ]
     },
     "execution_count": 42,
     "metadata": {},
     "output_type": "execute_result"
    }
   ],
   "source": [
    "test_other = tfidf.fit_transform(test_phrases['tweet_text']).toarray()\n",
    "predictions_nb = mnb.predict(test_tf)\n",
    "predictions_nb"
   ]
  },
  {
   "cell_type": "markdown",
   "id": "f7930cc1",
   "metadata": {},
   "source": [
    "what the heeeeelllll"
   ]
  },
  {
   "cell_type": "code",
   "execution_count": 43,
   "id": "8019dbd2",
   "metadata": {},
   "outputs": [
    {
     "name": "stdout",
     "output_type": "stream",
     "text": [
      "1/1 [==============================] - 1s 533ms/step\n"
     ]
    },
    {
     "data": {
      "text/plain": [
       "0"
      ]
     },
     "execution_count": 43,
     "metadata": {},
     "output_type": "execute_result"
    }
   ],
   "source": [
    "sequences = tokenizer.texts_to_sequences(test_phrases.squeeze())\n",
    "padded = pad_sequences(sequences, truncating=\"post\")\n",
    "\n",
    "testing_sequences = tokenizer.texts_to_sequences(test_phrases['tweet_text'])\n",
    "testing_padded = pad_sequences(testing_sequences, truncating='post')\n",
    "y_prob = model.predict(testing_padded)\n",
    "\n",
    "y_classes = y_prob.argmax()\n",
    "y_classes"
   ]
  },
  {
   "cell_type": "code",
   "execution_count": null,
   "id": "7d7cb54a",
   "metadata": {},
   "outputs": [],
   "source": []
  },
  {
   "cell_type": "code",
   "execution_count": null,
   "id": "2f2c0faa",
   "metadata": {},
   "outputs": [],
   "source": []
  },
  {
   "cell_type": "code",
   "execution_count": null,
   "id": "c1b924e9",
   "metadata": {},
   "outputs": [],
   "source": []
  },
  {
   "cell_type": "code",
   "execution_count": null,
   "id": "c3eacbbb",
   "metadata": {},
   "outputs": [],
   "source": []
  }
 ],
 "metadata": {
  "kaggle": {
   "accelerator": "none",
   "dataSources": [
    {
     "databundleVersionId": 869809,
     "sourceId": 17777,
     "sourceType": "competition"
    }
   ],
   "dockerImageVersionId": 30646,
   "isGpuEnabled": false,
   "isInternetEnabled": true,
   "language": "python",
   "sourceType": "notebook"
  },
  "kernelspec": {
   "display_name": "Python 3 (ipykernel)",
   "language": "python",
   "name": "python3"
  },
  "language_info": {
   "codemirror_mode": {
    "name": "ipython",
    "version": 3
   },
   "file_extension": ".py",
   "mimetype": "text/x-python",
   "name": "python",
   "nbconvert_exporter": "python",
   "pygments_lexer": "ipython3",
   "version": "3.9.12"
  },
  "papermill": {
   "default_parameters": {},
   "duration": 487.694125,
   "end_time": "2024-02-15T07:06:32.114671",
   "environment_variables": {},
   "exception": null,
   "input_path": "__notebook__.ipynb",
   "output_path": "__notebook__.ipynb",
   "parameters": {},
   "start_time": "2024-02-15T06:58:24.420546",
   "version": "2.5.0"
  }
 },
 "nbformat": 4,
 "nbformat_minor": 5
}
