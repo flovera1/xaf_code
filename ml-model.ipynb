{
 "cells": [
  {
   "cell_type": "code",
   "execution_count": 2,
   "metadata": {
    "_cell_guid": "b1076dfc-b9ad-4769-8c92-a6c4dae69d19",
    "_uuid": "8f2839f25d086af736a60e9eeb907d3b93b6e0e5",
    "execution": {
     "iopub.execute_input": "2024-02-29T10:48:55.810452Z",
     "iopub.status.busy": "2024-02-29T10:48:55.810140Z",
     "iopub.status.idle": "2024-02-29T10:48:55.839874Z",
     "shell.execute_reply": "2024-02-29T10:48:55.839113Z",
     "shell.execute_reply.started": "2024-02-29T10:48:55.810418Z"
    }
   },
   "outputs": [],
   "source": [
    "# This Python 3 environment comes with many helpful analytics libraries installed\n",
    "# It is defined by the kaggle/python Docker image: https://github.com/kaggle/docker-python\n",
    "# For example, here's several helpful packages to load\n",
    "\n",
    "\n",
    "\n",
    "# Input data files are available in the read-only \"../input/\" directory\n",
    "# For example, running this (by clicking run or pressing Shift+Enter) will list all files under the input directory\n",
    "\n",
    "# import os\n",
    "# for dirname, _, filenames in os.walk('/kaggle/input'):\n",
    "#     for filename in filenames:\n",
    "#         print(os.path.join(dirname, filename))\n",
    "\n",
    "# You can write up to 20GB to the current directory (/kaggle/working/) that gets preserved as output when you create a version using \"Save & Run All\" \n",
    "# You can also write temporary files to /kaggle/temp/, but they won't be saved outside of the current session"
   ]
  },
  {
   "cell_type": "code",
   "execution_count": 5,
   "metadata": {},
   "outputs": [
    {
     "name": "stdout",
     "output_type": "stream",
     "text": [
      "Collecting xgboost\n",
      "  Downloading xgboost-2.0.3-py3-none-manylinux2014_x86_64.whl (297.1 MB)\n",
      "\u001b[K     |████████████████████████████████| 297.1 MB 30 kB/s s eta 0:00:01    |████████▎                       | 76.8 MB 14.3 MB/s eta 0:00:16     |██████████████████████▉         | 212.4 MB 7.6 MB/s eta 0:00:12\n",
      "\u001b[?25hRequirement already satisfied: numpy in /home/fernando/anaconda3/lib/python3.9/site-packages (from xgboost) (1.26.4)\n",
      "Requirement already satisfied: scipy in /home/fernando/anaconda3/lib/python3.9/site-packages (from xgboost) (1.7.3)\n",
      "Collecting numpy\n",
      "  Downloading numpy-1.22.4-cp39-cp39-manylinux_2_17_x86_64.manylinux2014_x86_64.whl (16.8 MB)\n",
      "\u001b[K     |████████████████████████████████| 16.8 MB 16.3 MB/s eta 0:00:01\n",
      "\u001b[?25hInstalling collected packages: numpy, xgboost\n",
      "  Attempting uninstall: numpy\n",
      "    Found existing installation: numpy 1.26.4\n",
      "    Uninstalling numpy-1.26.4:\n",
      "      Successfully uninstalled numpy-1.26.4\n",
      "\u001b[31mERROR: pip's dependency resolver does not currently take into account all the packages that are installed. This behaviour is the source of the following dependency conflicts.\n",
      "daal4py 2021.5.0 requires daal==2021.4.0, which is not installed.\n",
      "tensorflow 2.15.0.post1 requires numpy<2.0.0,>=1.23.5, but you have numpy 1.22.4 which is incompatible.\n",
      "numba 0.55.1 requires numpy<1.22,>=1.18, but you have numpy 1.22.4 which is incompatible.\u001b[0m\n",
      "Successfully installed numpy-1.22.4 xgboost-2.0.3\n",
      "Note: you may need to restart the kernel to use updated packages.\n"
     ]
    }
   ],
   "source": [
    "pip install xgboost"
   ]
  },
  {
   "cell_type": "code",
   "execution_count": 4,
   "metadata": {
    "execution": {
     "iopub.execute_input": "2024-02-29T10:48:56.338103Z",
     "iopub.status.busy": "2024-02-29T10:48:56.337592Z",
     "iopub.status.idle": "2024-02-29T10:48:58.383824Z",
     "shell.execute_reply": "2024-02-29T10:48:58.382967Z",
     "shell.execute_reply.started": "2024-02-29T10:48:56.338072Z"
    }
   },
   "outputs": [
    {
     "name": "stderr",
     "output_type": "stream",
     "text": [
      "/home/fernando/anaconda3/lib/python3.9/site-packages/scipy/__init__.py:146: UserWarning: A NumPy version >=1.16.5 and <1.23.0 is required for this version of SciPy (detected version 1.26.4\n",
      "  warnings.warn(f\"A NumPy version >={np_minversion} and <{np_maxversion}\"\n"
     ]
    },
    {
     "ename": "ModuleNotFoundError",
     "evalue": "No module named 'xgboost'",
     "output_type": "error",
     "traceback": [
      "\u001b[0;31m---------------------------------------------------------------------------\u001b[0m",
      "\u001b[0;31mModuleNotFoundError\u001b[0m                       Traceback (most recent call last)",
      "Input \u001b[0;32mIn [4]\u001b[0m, in \u001b[0;36m<cell line: 19>\u001b[0;34m()\u001b[0m\n\u001b[1;32m     17\u001b[0m \u001b[38;5;28;01mfrom\u001b[39;00m \u001b[38;5;21;01msklearn\u001b[39;00m\u001b[38;5;21;01m.\u001b[39;00m\u001b[38;5;21;01mnaive_bayes\u001b[39;00m \u001b[38;5;28;01mimport\u001b[39;00m BernoulliNB, MultinomialNB\n\u001b[1;32m     18\u001b[0m \u001b[38;5;28;01mfrom\u001b[39;00m \u001b[38;5;21;01msklearn\u001b[39;00m\u001b[38;5;21;01m.\u001b[39;00m\u001b[38;5;21;01mensemble\u001b[39;00m \u001b[38;5;28;01mimport\u001b[39;00m RandomForestClassifier\n\u001b[0;32m---> 19\u001b[0m \u001b[38;5;28;01mfrom\u001b[39;00m \u001b[38;5;21;01mxgboost\u001b[39;00m \u001b[38;5;28;01mimport\u001b[39;00m XGBClassifier\n\u001b[1;32m     20\u001b[0m \u001b[38;5;28;01mfrom\u001b[39;00m \u001b[38;5;21;01msklearn\u001b[39;00m\u001b[38;5;21;01m.\u001b[39;00m\u001b[38;5;21;01mmetrics\u001b[39;00m \u001b[38;5;28;01mimport\u001b[39;00m f1_score, confusion_matrix\n",
      "\u001b[0;31mModuleNotFoundError\u001b[0m: No module named 'xgboost'"
     ]
    }
   ],
   "source": [
    "import numpy as np\n",
    "import pandas as pd\n",
    "\n",
    "import matplotlib.pyplot as plt\n",
    "import seaborn as sns\n",
    "import plotly.express as px\n",
    "from wordcloud import WordCloud\n",
    "\n",
    "import re\n",
    "from nltk.corpus import stopwords\n",
    "from nltk.stem import SnowballStemmer\n",
    "from sklearn.feature_extraction.text import TfidfVectorizer\n",
    "\n",
    "from sklearn.model_selection import train_test_split\n",
    "from sklearn.linear_model import LogisticRegression\n",
    "from sklearn.svm import SVC\n",
    "from sklearn.naive_bayes import BernoulliNB, MultinomialNB\n",
    "from sklearn.ensemble import RandomForestClassifier\n",
    "from xgboost import XGBClassifier\n",
    "from sklearn.metrics import f1_score, confusion_matrix"
   ]
  },
  {
   "cell_type": "code",
   "execution_count": null,
   "metadata": {
    "execution": {
     "iopub.execute_input": "2024-02-29T10:48:58.729496Z",
     "iopub.status.busy": "2024-02-29T10:48:58.727745Z",
     "iopub.status.idle": "2024-02-29T10:48:58.735095Z",
     "shell.execute_reply": "2024-02-29T10:48:58.733287Z",
     "shell.execute_reply.started": "2024-02-29T10:48:58.729462Z"
    }
   },
   "outputs": [],
   "source": [
    "import warnings\n",
    "warnings.filterwarnings('ignore')"
   ]
  },
  {
   "cell_type": "code",
   "execution_count": null,
   "metadata": {
    "execution": {
     "iopub.execute_input": "2024-02-29T10:48:59.177276Z",
     "iopub.status.busy": "2024-02-29T10:48:59.176957Z",
     "iopub.status.idle": "2024-02-29T10:48:59.219831Z",
     "shell.execute_reply": "2024-02-29T10:48:59.219207Z",
     "shell.execute_reply.started": "2024-02-29T10:48:59.177228Z"
    }
   },
   "outputs": [],
   "source": [
    "df = pd.read_csv('./nlp-getting-started/train.csv')"
   ]
  },
  {
   "cell_type": "code",
   "execution_count": null,
   "metadata": {
    "execution": {
     "iopub.execute_input": "2024-02-29T10:49:02.037536Z",
     "iopub.status.busy": "2024-02-29T10:49:02.037208Z",
     "iopub.status.idle": "2024-02-29T10:49:02.051397Z",
     "shell.execute_reply": "2024-02-29T10:49:02.050582Z",
     "shell.execute_reply.started": "2024-02-29T10:49:02.037510Z"
    }
   },
   "outputs": [],
   "source": [
    "df.head()"
   ]
  },
  {
   "cell_type": "code",
   "execution_count": null,
   "metadata": {
    "execution": {
     "iopub.execute_input": "2024-02-29T10:49:03.848712Z",
     "iopub.status.busy": "2024-02-29T10:49:03.848404Z",
     "iopub.status.idle": "2024-02-29T10:49:03.853307Z",
     "shell.execute_reply": "2024-02-29T10:49:03.852545Z",
     "shell.execute_reply.started": "2024-02-29T10:49:03.848688Z"
    }
   },
   "outputs": [],
   "source": [
    "df.shape"
   ]
  },
  {
   "cell_type": "code",
   "execution_count": null,
   "metadata": {
    "execution": {
     "iopub.execute_input": "2024-02-29T10:49:04.086537Z",
     "iopub.status.busy": "2024-02-29T10:49:04.086199Z",
     "iopub.status.idle": "2024-02-29T10:49:04.095907Z",
     "shell.execute_reply": "2024-02-29T10:49:04.095131Z",
     "shell.execute_reply.started": "2024-02-29T10:49:04.086513Z"
    }
   },
   "outputs": [],
   "source": [
    "df.isnull().sum()"
   ]
  },
  {
   "cell_type": "code",
   "execution_count": null,
   "metadata": {
    "execution": {
     "iopub.execute_input": "2024-02-29T10:49:04.704522Z",
     "iopub.status.busy": "2024-02-29T10:49:04.704197Z",
     "iopub.status.idle": "2024-02-29T10:49:04.714242Z",
     "shell.execute_reply": "2024-02-29T10:49:04.713296Z",
     "shell.execute_reply.started": "2024-02-29T10:49:04.704497Z"
    }
   },
   "outputs": [],
   "source": [
    "df.head()"
   ]
  },
  {
   "cell_type": "code",
   "execution_count": null,
   "metadata": {
    "execution": {
     "iopub.execute_input": "2024-02-29T10:49:05.187631Z",
     "iopub.status.busy": "2024-02-29T10:49:05.187305Z",
     "iopub.status.idle": "2024-02-29T10:49:05.197778Z",
     "shell.execute_reply": "2024-02-29T10:49:05.197072Z",
     "shell.execute_reply.started": "2024-02-29T10:49:05.187600Z"
    }
   },
   "outputs": [],
   "source": [
    "df.drop(columns=['id', 'keyword', 'location'],inplace=True)"
   ]
  },
  {
   "cell_type": "markdown",
   "metadata": {
    "execution": {
     "iopub.execute_input": "2024-02-26T10:49:33.843306Z",
     "iopub.status.busy": "2024-02-26T10:49:33.842767Z"
    }
   },
   "source": [
    "## Data Processing"
   ]
  },
  {
   "cell_type": "code",
   "execution_count": null,
   "metadata": {
    "execution": {
     "iopub.execute_input": "2024-02-29T10:49:07.058039Z",
     "iopub.status.busy": "2024-02-29T10:49:07.057744Z",
     "iopub.status.idle": "2024-02-29T10:49:07.066965Z",
     "shell.execute_reply": "2024-02-29T10:49:07.066164Z",
     "shell.execute_reply.started": "2024-02-29T10:49:07.058017Z"
    }
   },
   "outputs": [],
   "source": [
    "df.head()"
   ]
  },
  {
   "cell_type": "code",
   "execution_count": null,
   "metadata": {
    "execution": {
     "iopub.execute_input": "2024-02-29T10:49:07.364121Z",
     "iopub.status.busy": "2024-02-29T10:49:07.363838Z",
     "iopub.status.idle": "2024-02-29T10:49:07.369207Z",
     "shell.execute_reply": "2024-02-29T10:49:07.368464Z",
     "shell.execute_reply.started": "2024-02-29T10:49:07.364101Z"
    }
   },
   "outputs": [],
   "source": [
    "def clean_text(text):\n",
    "    \n",
    "    text = text.lower()\n",
    "    text = re.sub(r'[^a-zA-Z\\s]', '', text)  # Remove special characters, quotes, numbers, and other non-text characters\n",
    "    text = re.sub(r'\\s+', ' ', text) # Replace multiple whitespace characters with a single space   \n",
    "    text = text.strip()  # Remove leading and trailing whitespace\n",
    "    \n",
    "    # removing stopword from text\n",
    "    stopword = stopwords.words('english')\n",
    "    text = [word for word in text.split() if word not in stopword ]\n",
    "    \n",
    "    # stemming text get word in it's root form\n",
    "    sb_stem = SnowballStemmer('english')\n",
    "    text = ' '.join([sb_stem.stem(word) for word in text ])\n",
    "    \n",
    "    return text\n"
   ]
  },
  {
   "cell_type": "code",
   "execution_count": null,
   "metadata": {
    "execution": {
     "iopub.execute_input": "2024-02-29T10:49:07.777910Z",
     "iopub.status.busy": "2024-02-29T10:49:07.777605Z",
     "iopub.status.idle": "2024-02-29T10:49:09.871546Z",
     "shell.execute_reply": "2024-02-29T10:49:09.870727Z",
     "shell.execute_reply.started": "2024-02-29T10:49:07.777886Z"
    }
   },
   "outputs": [],
   "source": [
    "df['text'] = df['text'].apply(clean_text)"
   ]
  },
  {
   "cell_type": "code",
   "execution_count": null,
   "metadata": {
    "execution": {
     "iopub.execute_input": "2024-02-29T10:49:09.873133Z",
     "iopub.status.busy": "2024-02-29T10:49:09.872891Z",
     "iopub.status.idle": "2024-02-29T10:49:09.879109Z",
     "shell.execute_reply": "2024-02-29T10:49:09.878546Z",
     "shell.execute_reply.started": "2024-02-29T10:49:09.873110Z"
    }
   },
   "outputs": [],
   "source": [
    "df['text_length'] = df['text'].apply(len)"
   ]
  },
  {
   "cell_type": "markdown",
   "metadata": {
    "execution": {
     "iopub.execute_input": "2024-02-26T11:17:52.531891Z",
     "iopub.status.busy": "2024-02-26T11:17:52.531408Z",
     "iopub.status.idle": "2024-02-26T11:17:52.539278Z",
     "shell.execute_reply": "2024-02-26T11:17:52.537774Z",
     "shell.execute_reply.started": "2024-02-26T11:17:52.531848Z"
    }
   },
   "source": [
    "# EDA"
   ]
  },
  {
   "cell_type": "code",
   "execution_count": null,
   "metadata": {
    "execution": {
     "iopub.execute_input": "2024-02-29T10:49:17.224258Z",
     "iopub.status.busy": "2024-02-29T10:49:17.223856Z",
     "iopub.status.idle": "2024-02-29T10:49:17.234920Z",
     "shell.execute_reply": "2024-02-29T10:49:17.233972Z",
     "shell.execute_reply.started": "2024-02-29T10:49:17.224207Z"
    }
   },
   "outputs": [],
   "source": [
    "df.sample()"
   ]
  },
  {
   "cell_type": "code",
   "execution_count": null,
   "metadata": {
    "execution": {
     "iopub.execute_input": "2024-02-29T10:49:17.983899Z",
     "iopub.status.busy": "2024-02-29T10:49:17.983622Z",
     "iopub.status.idle": "2024-02-29T10:49:17.992076Z",
     "shell.execute_reply": "2024-02-29T10:49:17.991377Z",
     "shell.execute_reply.started": "2024-02-29T10:49:17.983878Z"
    }
   },
   "outputs": [],
   "source": [
    "target = df['target'].value_counts()"
   ]
  },
  {
   "cell_type": "code",
   "execution_count": null,
   "metadata": {
    "execution": {
     "iopub.execute_input": "2024-02-29T10:49:18.092619Z",
     "iopub.status.busy": "2024-02-29T10:49:18.092373Z",
     "iopub.status.idle": "2024-02-29T10:49:18.290799Z",
     "shell.execute_reply": "2024-02-29T10:49:18.290019Z",
     "shell.execute_reply.started": "2024-02-29T10:49:18.092600Z"
    }
   },
   "outputs": [],
   "source": [
    "sns.barplot(x=target.index,y=target.values)"
   ]
  },
  {
   "cell_type": "code",
   "execution_count": null,
   "metadata": {
    "execution": {
     "iopub.execute_input": "2024-02-29T10:49:27.489994Z",
     "iopub.status.busy": "2024-02-29T10:49:27.489702Z",
     "iopub.status.idle": "2024-02-29T10:49:27.638482Z",
     "shell.execute_reply": "2024-02-29T10:49:27.637802Z",
     "shell.execute_reply.started": "2024-02-29T10:49:27.489971Z"
    }
   },
   "outputs": [],
   "source": [
    "sns.boxenplot(data=df,x='target',y='text_length')    "
   ]
  },
  {
   "cell_type": "code",
   "execution_count": null,
   "metadata": {
    "execution": {
     "iopub.execute_input": "2024-02-29T10:49:29.349181Z",
     "iopub.status.busy": "2024-02-29T10:49:29.348883Z",
     "iopub.status.idle": "2024-02-29T10:49:30.628701Z",
     "shell.execute_reply": "2024-02-29T10:49:30.628052Z",
     "shell.execute_reply.started": "2024-02-29T10:49:29.349152Z"
    }
   },
   "outputs": [],
   "source": [
    "px.histogram(data_frame=df, x='text_length',nbins=50,color='target', width=800, height=400)"
   ]
  },
  {
   "cell_type": "code",
   "execution_count": null,
   "metadata": {
    "execution": {
     "iopub.execute_input": "2024-02-29T10:49:37.803886Z",
     "iopub.status.busy": "2024-02-29T10:49:37.803599Z",
     "iopub.status.idle": "2024-02-29T10:49:37.810847Z",
     "shell.execute_reply": "2024-02-29T10:49:37.810025Z",
     "shell.execute_reply.started": "2024-02-29T10:49:37.803864Z"
    }
   },
   "outputs": [],
   "source": [
    "avg_len = df.groupby('target')['text_length'].mean()"
   ]
  },
  {
   "cell_type": "code",
   "execution_count": null,
   "metadata": {
    "execution": {
     "iopub.execute_input": "2024-02-29T10:49:43.646030Z",
     "iopub.status.busy": "2024-02-29T10:49:43.645727Z",
     "iopub.status.idle": "2024-02-29T10:49:43.722121Z",
     "shell.execute_reply": "2024-02-29T10:49:43.721369Z",
     "shell.execute_reply.started": "2024-02-29T10:49:43.646007Z"
    }
   },
   "outputs": [],
   "source": [
    "px.bar(x=avg_len.index,y= avg_len.values, width=500, height=400,color=avg_len.index)"
   ]
  },
  {
   "cell_type": "code",
   "execution_count": null,
   "metadata": {
    "execution": {
     "iopub.execute_input": "2024-02-29T10:49:43.954065Z",
     "iopub.status.busy": "2024-02-29T10:49:43.953760Z",
     "iopub.status.idle": "2024-02-29T10:49:46.427031Z",
     "shell.execute_reply": "2024-02-29T10:49:46.426289Z",
     "shell.execute_reply.started": "2024-02-29T10:49:43.954041Z"
    }
   },
   "outputs": [],
   "source": [
    "plt.figure(figsize=(15,10))\n",
    "plot_num = 1\n",
    "for i in df['target'].unique():\n",
    "    plt.subplot(3,2,plot_num)\n",
    "    wordcloud = WordCloud(height=400,width=800,background_color='white').generate(' '.join(df[df['target']==i]['text']))\n",
    "    plt.title(f'word cloud for {i}')\n",
    "    plt.imshow(wordcloud)\n",
    "    plt.tight_layout()\n",
    "    plot_num += 1\n",
    "plt.show()"
   ]
  },
  {
   "cell_type": "code",
   "execution_count": null,
   "metadata": {
    "execution": {
     "iopub.execute_input": "2024-02-29T10:49:46.428683Z",
     "iopub.status.busy": "2024-02-29T10:49:46.428451Z",
     "iopub.status.idle": "2024-02-29T10:49:46.435850Z",
     "shell.execute_reply": "2024-02-29T10:49:46.435332Z",
     "shell.execute_reply.started": "2024-02-29T10:49:46.428662Z"
    }
   },
   "outputs": [],
   "source": [
    "df.head()"
   ]
  },
  {
   "cell_type": "markdown",
   "metadata": {
    "execution": {
     "iopub.status.busy": "2024-02-26T12:04:41.451992Z"
    }
   },
   "source": [
    "## Vectorize"
   ]
  },
  {
   "cell_type": "code",
   "execution_count": null,
   "metadata": {
    "execution": {
     "iopub.execute_input": "2024-02-29T10:49:50.259763Z",
     "iopub.status.busy": "2024-02-29T10:49:50.259286Z",
     "iopub.status.idle": "2024-02-29T10:49:50.262975Z",
     "shell.execute_reply": "2024-02-29T10:49:50.262342Z",
     "shell.execute_reply.started": "2024-02-29T10:49:50.259741Z"
    }
   },
   "outputs": [],
   "source": [
    "X = df['text']\n",
    "y = df['target']"
   ]
  },
  {
   "cell_type": "code",
   "execution_count": null,
   "metadata": {
    "execution": {
     "iopub.execute_input": "2024-02-29T10:49:51.202080Z",
     "iopub.status.busy": "2024-02-29T10:49:51.201762Z",
     "iopub.status.idle": "2024-02-29T10:49:51.205937Z",
     "shell.execute_reply": "2024-02-29T10:49:51.205082Z",
     "shell.execute_reply.started": "2024-02-29T10:49:51.202056Z"
    }
   },
   "outputs": [],
   "source": [
    "tfid_vect = TfidfVectorizer(max_features=5000)"
   ]
  },
  {
   "cell_type": "code",
   "execution_count": null,
   "metadata": {
    "execution": {
     "iopub.execute_input": "2024-02-29T10:49:51.586171Z",
     "iopub.status.busy": "2024-02-29T10:49:51.585895Z",
     "iopub.status.idle": "2024-02-29T10:49:51.691471Z",
     "shell.execute_reply": "2024-02-29T10:49:51.690856Z",
     "shell.execute_reply.started": "2024-02-29T10:49:51.586151Z"
    }
   },
   "outputs": [],
   "source": [
    "X_vectorize = tfid_vect.fit_transform(X)"
   ]
  },
  {
   "cell_type": "code",
   "execution_count": null,
   "metadata": {
    "execution": {
     "iopub.execute_input": "2024-02-29T10:49:52.282823Z",
     "iopub.status.busy": "2024-02-29T10:49:52.282120Z",
     "iopub.status.idle": "2024-02-29T10:49:52.291130Z",
     "shell.execute_reply": "2024-02-29T10:49:52.290410Z",
     "shell.execute_reply.started": "2024-02-29T10:49:52.282794Z"
    }
   },
   "outputs": [],
   "source": [
    "tfid_vect.get_feature_names_out()"
   ]
  },
  {
   "cell_type": "markdown",
   "metadata": {},
   "source": [
    "## Create Train and Validation Data"
   ]
  },
  {
   "cell_type": "code",
   "execution_count": null,
   "metadata": {
    "execution": {
     "iopub.execute_input": "2024-02-29T10:49:54.032908Z",
     "iopub.status.busy": "2024-02-29T10:49:54.032514Z",
     "iopub.status.idle": "2024-02-29T10:49:54.038886Z",
     "shell.execute_reply": "2024-02-29T10:49:54.038281Z",
     "shell.execute_reply.started": "2024-02-29T10:49:54.032880Z"
    }
   },
   "outputs": [],
   "source": [
    "X_train,X_val,y_train,y_val = train_test_split(X_vectorize,y,test_size=0.2,random_state=42)"
   ]
  },
  {
   "cell_type": "code",
   "execution_count": null,
   "metadata": {
    "execution": {
     "iopub.execute_input": "2024-02-29T10:49:54.505392Z",
     "iopub.status.busy": "2024-02-29T10:49:54.504530Z",
     "iopub.status.idle": "2024-02-29T10:49:54.510672Z",
     "shell.execute_reply": "2024-02-29T10:49:54.509847Z",
     "shell.execute_reply.started": "2024-02-29T10:49:54.505356Z"
    }
   },
   "outputs": [],
   "source": [
    "X_train.shape"
   ]
  },
  {
   "cell_type": "code",
   "execution_count": null,
   "metadata": {
    "execution": {
     "iopub.execute_input": "2024-02-29T10:49:55.164814Z",
     "iopub.status.busy": "2024-02-29T10:49:55.164126Z",
     "iopub.status.idle": "2024-02-29T10:49:55.169474Z",
     "shell.execute_reply": "2024-02-29T10:49:55.168684Z",
     "shell.execute_reply.started": "2024-02-29T10:49:55.164791Z"
    }
   },
   "outputs": [],
   "source": [
    "X_val.shape"
   ]
  },
  {
   "cell_type": "markdown",
   "metadata": {},
   "source": [
    "## Training Model"
   ]
  },
  {
   "cell_type": "code",
   "execution_count": null,
   "metadata": {
    "execution": {
     "iopub.execute_input": "2024-02-29T10:49:57.154895Z",
     "iopub.status.busy": "2024-02-29T10:49:57.154580Z",
     "iopub.status.idle": "2024-02-29T10:49:57.159021Z",
     "shell.execute_reply": "2024-02-29T10:49:57.158174Z",
     "shell.execute_reply.started": "2024-02-29T10:49:57.154871Z"
    }
   },
   "outputs": [],
   "source": [
    "classifier = {\n",
    "             'Logistic Regression' : LogisticRegression(),\n",
    "             'SVC' : SVC(),\n",
    "             'BernoulliNB' : BernoulliNB(),\n",
    "             'MultinomialNB': MultinomialNB(),\n",
    "             'RandomForestClassifier' : RandomForestClassifier(),\n",
    "             'XGBClassifier' : XGBClassifier()\n",
    "             }"
   ]
  },
  {
   "cell_type": "code",
   "execution_count": null,
   "metadata": {
    "execution": {
     "iopub.execute_input": "2024-02-29T10:49:57.998543Z",
     "iopub.status.busy": "2024-02-29T10:49:57.997993Z",
     "iopub.status.idle": "2024-02-29T10:50:10.106756Z",
     "shell.execute_reply": "2024-02-29T10:50:10.106180Z",
     "shell.execute_reply.started": "2024-02-29T10:49:57.998510Z"
    }
   },
   "outputs": [],
   "source": [
    "for name, model in classifier.items():\n",
    "    model = model\n",
    "    model.fit(X_train,y_train)\n",
    "    y_predict = model.predict(X_val)\n",
    "    f1score = f1_score(y_val,y_predict)\n",
    "    confusion_mat = confusion_matrix(y_val,y_predict)\n",
    "    print('classifier : ', name)\n",
    "    print('f1-score   : ',f1score)\n",
    "    print('confusion matrix : \\n', confusion_mat)\n",
    "    fig = px.imshow(confusion_mat,text_auto=True)\n",
    "    fig.update_layout(height=300, width=400, xaxis_visible=False, yaxis_visible=False)\n",
    "    fig.show()\n",
    "    print(\"=\"*50)"
   ]
  },
  {
   "cell_type": "markdown",
   "metadata": {},
   "source": [
    "#### From the above, the BernoulliNB model has the best F1 score."
   ]
  },
  {
   "cell_type": "code",
   "execution_count": null,
   "metadata": {
    "execution": {
     "iopub.execute_input": "2024-02-29T10:50:58.924196Z",
     "iopub.status.busy": "2024-02-29T10:50:58.923898Z",
     "iopub.status.idle": "2024-02-29T10:50:58.928523Z",
     "shell.execute_reply": "2024-02-29T10:50:58.927802Z",
     "shell.execute_reply.started": "2024-02-29T10:50:58.924173Z"
    }
   },
   "outputs": [],
   "source": [
    "bernoulli = BernoulliNB()"
   ]
  },
  {
   "cell_type": "code",
   "execution_count": null,
   "metadata": {
    "execution": {
     "iopub.execute_input": "2024-02-29T10:50:59.367593Z",
     "iopub.status.busy": "2024-02-29T10:50:59.367258Z",
     "iopub.status.idle": "2024-02-29T10:50:59.379337Z",
     "shell.execute_reply": "2024-02-29T10:50:59.378589Z",
     "shell.execute_reply.started": "2024-02-29T10:50:59.367566Z"
    }
   },
   "outputs": [],
   "source": [
    "bernoulli.fit(X_train,y_train)"
   ]
  },
  {
   "cell_type": "code",
   "execution_count": null,
   "metadata": {
    "execution": {
     "iopub.execute_input": "2024-02-29T10:51:04.563962Z",
     "iopub.status.busy": "2024-02-29T10:51:04.563659Z",
     "iopub.status.idle": "2024-02-29T10:51:04.583487Z",
     "shell.execute_reply": "2024-02-29T10:51:04.582789Z",
     "shell.execute_reply.started": "2024-02-29T10:51:04.563939Z"
    }
   },
   "outputs": [],
   "source": [
    "test_df = pd.read_csv('/kaggle/input/nlp-getting-started/test.csv')"
   ]
  },
  {
   "cell_type": "code",
   "execution_count": null,
   "metadata": {
    "execution": {
     "iopub.execute_input": "2024-02-29T10:51:05.289534Z",
     "iopub.status.busy": "2024-02-29T10:51:05.289030Z",
     "iopub.status.idle": "2024-02-29T10:51:05.337652Z",
     "shell.execute_reply": "2024-02-29T10:51:05.336729Z",
     "shell.execute_reply.started": "2024-02-29T10:51:05.289511Z"
    }
   },
   "outputs": [],
   "source": [
    "X_test = tfid_vect.transform(test_df['text'])"
   ]
  },
  {
   "cell_type": "code",
   "execution_count": null,
   "metadata": {
    "execution": {
     "iopub.execute_input": "2024-02-29T10:51:14.189341Z",
     "iopub.status.busy": "2024-02-29T10:51:14.189030Z",
     "iopub.status.idle": "2024-02-29T10:51:14.194372Z",
     "shell.execute_reply": "2024-02-29T10:51:14.193704Z",
     "shell.execute_reply.started": "2024-02-29T10:51:14.189318Z"
    }
   },
   "outputs": [],
   "source": [
    "test_df['target'] = bernoulli.predict(X_test)"
   ]
  },
  {
   "cell_type": "code",
   "execution_count": null,
   "metadata": {
    "execution": {
     "iopub.execute_input": "2024-02-29T10:51:15.257967Z",
     "iopub.status.busy": "2024-02-29T10:51:15.257682Z",
     "iopub.status.idle": "2024-02-29T10:51:15.267467Z",
     "shell.execute_reply": "2024-02-29T10:51:15.266793Z",
     "shell.execute_reply.started": "2024-02-29T10:51:15.257945Z"
    }
   },
   "outputs": [],
   "source": [
    "test_df[['id','target']].to_csv('submission.csv',index=False)"
   ]
  },
  {
   "cell_type": "code",
   "execution_count": null,
   "metadata": {},
   "outputs": [],
   "source": []
  }
 ],
 "metadata": {
  "kaggle": {
   "accelerator": "none",
   "dataSources": [
    {
     "databundleVersionId": 869809,
     "sourceId": 17777,
     "sourceType": "competition"
    }
   ],
   "dockerImageVersionId": 30646,
   "isGpuEnabled": false,
   "isInternetEnabled": true,
   "language": "python",
   "sourceType": "notebook"
  },
  "kernelspec": {
   "display_name": "Python 3 (ipykernel)",
   "language": "python",
   "name": "python3"
  },
  "language_info": {
   "codemirror_mode": {
    "name": "ipython",
    "version": 3
   },
   "file_extension": ".py",
   "mimetype": "text/x-python",
   "name": "python",
   "nbconvert_exporter": "python",
   "pygments_lexer": "ipython3",
   "version": "3.9.12"
  }
 },
 "nbformat": 4,
 "nbformat_minor": 4
}
