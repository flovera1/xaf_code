{
 "cells": [
  {
   "cell_type": "code",
   "execution_count": 1,
   "id": "turned-reggae",
   "metadata": {},
   "outputs": [
    {
     "name": "stdout",
     "output_type": "stream",
     "text": [
      "Requirement already satisfied: bertopic in /home/fernando/.pyenv/versions/3.7.2/lib/python3.7/site-packages (0.16.0)\n",
      "Requirement already satisfied: numpy>=1.20.0 in /home/fernando/.pyenv/versions/3.7.2/lib/python3.7/site-packages (from bertopic) (1.21.6)\n",
      "Requirement already satisfied: hdbscan>=0.8.29 in /home/fernando/.pyenv/versions/3.7.2/lib/python3.7/site-packages (from bertopic) (0.8.33)\n",
      "Requirement already satisfied: umap-learn>=0.5.0 in /home/fernando/.pyenv/versions/3.7.2/lib/python3.7/site-packages (from bertopic) (0.5.5)\n",
      "Requirement already satisfied: pandas>=1.1.5 in /home/fernando/.pyenv/versions/3.7.2/lib/python3.7/site-packages (from bertopic) (1.3.5)\n",
      "Requirement already satisfied: scikit-learn>=0.22.2.post1 in /home/fernando/.pyenv/versions/3.7.2/lib/python3.7/site-packages (from bertopic) (1.0.1)\n",
      "Requirement already satisfied: tqdm>=4.41.1 in /home/fernando/.pyenv/versions/3.7.2/lib/python3.7/site-packages (from bertopic) (4.61.1)\n",
      "Requirement already satisfied: sentence-transformers>=0.4.1 in /home/fernando/.pyenv/versions/3.7.2/lib/python3.7/site-packages (from bertopic) (2.2.0)\n",
      "Requirement already satisfied: plotly>=4.7.0 in /home/fernando/.pyenv/versions/3.7.2/lib/python3.7/site-packages (from bertopic) (5.1.0)\n",
      "Requirement already satisfied: cython<3,>=0.27 in /home/fernando/.pyenv/versions/3.7.2/lib/python3.7/site-packages (from hdbscan>=0.8.29->bertopic) (0.29.37)\n",
      "Requirement already satisfied: scipy>=1.0 in /home/fernando/.pyenv/versions/3.7.2/lib/python3.7/site-packages (from hdbscan>=0.8.29->bertopic) (1.7.3)\n",
      "Requirement already satisfied: joblib>=1.0 in /home/fernando/.pyenv/versions/3.7.2/lib/python3.7/site-packages (from hdbscan>=0.8.29->bertopic) (1.0.1)\n",
      "Requirement already satisfied: python-dateutil>=2.7.3 in /home/fernando/.pyenv/versions/3.7.2/lib/python3.7/site-packages (from pandas>=1.1.5->bertopic) (2.8.2)\n",
      "Requirement already satisfied: pytz>=2017.3 in /home/fernando/.pyenv/versions/3.7.2/lib/python3.7/site-packages (from pandas>=1.1.5->bertopic) (2022.1)\n",
      "Requirement already satisfied: tenacity>=6.2.0 in /home/fernando/.pyenv/versions/3.7.2/lib/python3.7/site-packages (from plotly>=4.7.0->bertopic) (7.0.0)\n",
      "Requirement already satisfied: six in /home/fernando/.pyenv/versions/3.7.2/lib/python3.7/site-packages (from plotly>=4.7.0->bertopic) (1.15.0)\n",
      "Requirement already satisfied: threadpoolctl>=2.0.0 in /home/fernando/.pyenv/versions/3.7.2/lib/python3.7/site-packages (from scikit-learn>=0.22.2.post1->bertopic) (2.1.0)\n",
      "Requirement already satisfied: transformers<5.0.0,>=4.6.0 in /home/fernando/.pyenv/versions/3.7.2/lib/python3.7/site-packages (from sentence-transformers>=0.4.1->bertopic) (4.19.4)\n",
      "Requirement already satisfied: torch>=1.6.0 in /home/fernando/.pyenv/versions/3.7.2/lib/python3.7/site-packages (from sentence-transformers>=0.4.1->bertopic) (1.11.0)\n",
      "Requirement already satisfied: torchvision in /home/fernando/.pyenv/versions/3.7.2/lib/python3.7/site-packages (from sentence-transformers>=0.4.1->bertopic) (0.12.0)\n",
      "Requirement already satisfied: nltk in /home/fernando/.pyenv/versions/3.7.2/lib/python3.7/site-packages (from sentence-transformers>=0.4.1->bertopic) (3.6.2)\n",
      "Requirement already satisfied: sentencepiece in /home/fernando/.pyenv/versions/3.7.2/lib/python3.7/site-packages (from sentence-transformers>=0.4.1->bertopic) (0.1.96)\n",
      "Requirement already satisfied: huggingface-hub in /home/fernando/.pyenv/versions/3.7.2/lib/python3.7/site-packages (from sentence-transformers>=0.4.1->bertopic) (0.7.0)\n",
      "Requirement already satisfied: numba>=0.51.2 in /home/fernando/.pyenv/versions/3.7.2/lib/python3.7/site-packages (from umap-learn>=0.5.0->bertopic) (0.56.4)\n",
      "Requirement already satisfied: pynndescent>=0.5 in /home/fernando/.pyenv/versions/3.7.2/lib/python3.7/site-packages (from umap-learn>=0.5.0->bertopic) (0.5.11)\n",
      "Requirement already satisfied: llvmlite<0.40,>=0.39.0dev0 in /home/fernando/.pyenv/versions/3.7.2/lib/python3.7/site-packages (from numba>=0.51.2->umap-learn>=0.5.0->bertopic) (0.39.1)\n",
      "Requirement already satisfied: setuptools in /home/fernando/.pyenv/versions/3.7.2/lib/python3.7/site-packages (from numba>=0.51.2->umap-learn>=0.5.0->bertopic) (68.0.0)\n",
      "Requirement already satisfied: importlib-metadata in /home/fernando/.pyenv/versions/3.7.2/lib/python3.7/site-packages (from numba>=0.51.2->umap-learn>=0.5.0->bertopic) (4.11.3)\n",
      "Requirement already satisfied: typing-extensions in /home/fernando/.pyenv/versions/3.7.2/lib/python3.7/site-packages (from torch>=1.6.0->sentence-transformers>=0.4.1->bertopic) (3.7.4.3)\n",
      "Requirement already satisfied: filelock in /home/fernando/.pyenv/versions/3.7.2/lib/python3.7/site-packages (from transformers<5.0.0,>=4.6.0->sentence-transformers>=0.4.1->bertopic) (3.7.0)\n",
      "Requirement already satisfied: packaging>=20.0 in /home/fernando/.pyenv/versions/3.7.2/lib/python3.7/site-packages (from transformers<5.0.0,>=4.6.0->sentence-transformers>=0.4.1->bertopic) (21.3)\n",
      "Requirement already satisfied: pyyaml>=5.1 in /home/fernando/.pyenv/versions/3.7.2/lib/python3.7/site-packages (from transformers<5.0.0,>=4.6.0->sentence-transformers>=0.4.1->bertopic) (5.3.1)\n",
      "Requirement already satisfied: regex!=2019.12.17 in /home/fernando/.pyenv/versions/3.7.2/lib/python3.7/site-packages (from transformers<5.0.0,>=4.6.0->sentence-transformers>=0.4.1->bertopic) (2019.12.20)\n",
      "Requirement already satisfied: requests in /home/fernando/.pyenv/versions/3.7.2/lib/python3.7/site-packages (from transformers<5.0.0,>=4.6.0->sentence-transformers>=0.4.1->bertopic) (2.27.1)\n",
      "Requirement already satisfied: tokenizers!=0.11.3,<0.13,>=0.11.1 in /home/fernando/.pyenv/versions/3.7.2/lib/python3.7/site-packages (from transformers<5.0.0,>=4.6.0->sentence-transformers>=0.4.1->bertopic) (0.12.1)\n",
      "Requirement already satisfied: click in /home/fernando/.pyenv/versions/3.7.2/lib/python3.7/site-packages (from nltk->sentence-transformers>=0.4.1->bertopic) (7.1.2)\n",
      "Requirement already satisfied: pillow!=8.3.*,>=5.3.0 in /home/fernando/.pyenv/versions/3.7.2/lib/python3.7/site-packages (from torchvision->sentence-transformers>=0.4.1->bertopic) (8.1.0)\n",
      "Requirement already satisfied: zipp>=0.5 in /home/fernando/.pyenv/versions/3.7.2/lib/python3.7/site-packages (from importlib-metadata->numba>=0.51.2->umap-learn>=0.5.0->bertopic) (3.8.0)\n",
      "Requirement already satisfied: pyparsing!=3.0.5,>=2.0.2 in /home/fernando/.pyenv/versions/3.7.2/lib/python3.7/site-packages (from packaging>=20.0->transformers<5.0.0,>=4.6.0->sentence-transformers>=0.4.1->bertopic) (2.4.7)\n",
      "Requirement already satisfied: urllib3<1.27,>=1.21.1 in /home/fernando/.pyenv/versions/3.7.2/lib/python3.7/site-packages (from requests->transformers<5.0.0,>=4.6.0->sentence-transformers>=0.4.1->bertopic) (1.26.9)\n",
      "Requirement already satisfied: certifi>=2017.4.17 in /home/fernando/.pyenv/versions/3.7.2/lib/python3.7/site-packages (from requests->transformers<5.0.0,>=4.6.0->sentence-transformers>=0.4.1->bertopic) (2022.5.18.1)\n",
      "Requirement already satisfied: charset-normalizer~=2.0.0 in /home/fernando/.pyenv/versions/3.7.2/lib/python3.7/site-packages (from requests->transformers<5.0.0,>=4.6.0->sentence-transformers>=0.4.1->bertopic) (2.0.12)\n",
      "Requirement already satisfied: idna<4,>=2.5 in /home/fernando/.pyenv/versions/3.7.2/lib/python3.7/site-packages (from requests->transformers<5.0.0,>=4.6.0->sentence-transformers>=0.4.1->bertopic) (3.3)\n",
      "\u001b[33mDEPRECATION: redshift-connector 2.0.873 has a non-standard dependency specifier scramp>=1.2.0<1.3.0. pip 24.0 will enforce this behaviour change. A possible replacement is to upgrade to a newer version of redshift-connector or contact the author to suggest that they release a version with a conforming dependency specifiers. Discussion can be found at https://github.com/pypa/pip/issues/12063\u001b[0m\u001b[33m\n",
      "\u001b[0m\u001b[33mDEPRECATION: redshift-connector 2.0.873 has a non-standard dependency specifier pytz>=2020.1<2020.2. pip 24.0 will enforce this behaviour change. A possible replacement is to upgrade to a newer version of redshift-connector or contact the author to suggest that they release a version with a conforming dependency specifiers. Discussion can be found at https://github.com/pypa/pip/issues/12063\u001b[0m\u001b[33m\n",
      "\u001b[0m\u001b[33mDEPRECATION: redshift-connector 2.0.873 has a non-standard dependency specifier beautifulsoup4>=4.7.0<4.8.0. pip 24.0 will enforce this behaviour change. A possible replacement is to upgrade to a newer version of redshift-connector or contact the author to suggest that they release a version with a conforming dependency specifiers. Discussion can be found at https://github.com/pypa/pip/issues/12063\u001b[0m\u001b[33m\n",
      "\u001b[0m\u001b[33mDEPRECATION: redshift-connector 2.0.873 has a non-standard dependency specifier boto3>=1.16.8<1.17.0. pip 24.0 will enforce this behaviour change. A possible replacement is to upgrade to a newer version of redshift-connector or contact the author to suggest that they release a version with a conforming dependency specifiers. Discussion can be found at https://github.com/pypa/pip/issues/12063\u001b[0m\u001b[33m\n",
      "\u001b[0m\u001b[33mDEPRECATION: redshift-connector 2.0.873 has a non-standard dependency specifier requests>=2.23.0<2.24.0. pip 24.0 will enforce this behaviour change. A possible replacement is to upgrade to a newer version of redshift-connector or contact the author to suggest that they release a version with a conforming dependency specifiers. Discussion can be found at https://github.com/pypa/pip/issues/12063\u001b[0m\u001b[33m\n",
      "\u001b[0m\u001b[33mDEPRECATION: redshift-connector 2.0.873 has a non-standard dependency specifier lxml>=4.2.5<4.6.0. pip 24.0 will enforce this behaviour change. A possible replacement is to upgrade to a newer version of redshift-connector or contact the author to suggest that they release a version with a conforming dependency specifiers. Discussion can be found at https://github.com/pypa/pip/issues/12063\u001b[0m\u001b[33m\n",
      "\u001b[0m\u001b[33mDEPRECATION: redshift-connector 2.0.873 has a non-standard dependency specifier botocore>=1.19.8<1.20.0. pip 24.0 will enforce this behaviour change. A possible replacement is to upgrade to a newer version of redshift-connector or contact the author to suggest that they release a version with a conforming dependency specifiers. Discussion can be found at https://github.com/pypa/pip/issues/12063\u001b[0m\u001b[33m\n"
     ]
    },
    {
     "name": "stdout",
     "output_type": "stream",
     "text": [
      "\u001b[0m\n",
      "\u001b[1m[\u001b[0m\u001b[34;49mnotice\u001b[0m\u001b[1;39;49m]\u001b[0m\u001b[39;49m A new release of pip is available: \u001b[0m\u001b[31;49m23.3.1\u001b[0m\u001b[39;49m -> \u001b[0m\u001b[32;49m24.0\u001b[0m\n",
      "\u001b[1m[\u001b[0m\u001b[34;49mnotice\u001b[0m\u001b[1;39;49m]\u001b[0m\u001b[39;49m To update, run: \u001b[0m\u001b[32;49mpip install --upgrade pip\u001b[0m\n",
      "Note: you may need to restart the kernel to use updated packages.\n"
     ]
    }
   ],
   "source": [
    "pip install bertopic\n"
   ]
  },
  {
   "cell_type": "code",
   "execution_count": 2,
   "id": "neural-lincoln",
   "metadata": {},
   "outputs": [
    {
     "name": "stdout",
     "output_type": "stream",
     "text": [
      "Requirement already satisfied: importlib-metadata in /home/fernando/.pyenv/versions/3.7.2/lib/python3.7/site-packages (4.11.3)\n",
      "Requirement already satisfied: zipp>=0.5 in /home/fernando/.pyenv/versions/3.7.2/lib/python3.7/site-packages (from importlib-metadata) (3.8.0)\n",
      "Requirement already satisfied: typing-extensions>=3.6.4 in /home/fernando/.pyenv/versions/3.7.2/lib/python3.7/site-packages (from importlib-metadata) (3.7.4.3)\n",
      "\u001b[33mDEPRECATION: redshift-connector 2.0.873 has a non-standard dependency specifier scramp>=1.2.0<1.3.0. pip 24.0 will enforce this behaviour change. A possible replacement is to upgrade to a newer version of redshift-connector or contact the author to suggest that they release a version with a conforming dependency specifiers. Discussion can be found at https://github.com/pypa/pip/issues/12063\u001b[0m\u001b[33m\n",
      "\u001b[0m\u001b[33mDEPRECATION: redshift-connector 2.0.873 has a non-standard dependency specifier pytz>=2020.1<2020.2. pip 24.0 will enforce this behaviour change. A possible replacement is to upgrade to a newer version of redshift-connector or contact the author to suggest that they release a version with a conforming dependency specifiers. Discussion can be found at https://github.com/pypa/pip/issues/12063\u001b[0m\u001b[33m\n",
      "\u001b[0m\u001b[33mDEPRECATION: redshift-connector 2.0.873 has a non-standard dependency specifier beautifulsoup4>=4.7.0<4.8.0. pip 24.0 will enforce this behaviour change. A possible replacement is to upgrade to a newer version of redshift-connector or contact the author to suggest that they release a version with a conforming dependency specifiers. Discussion can be found at https://github.com/pypa/pip/issues/12063\u001b[0m\u001b[33m\n",
      "\u001b[0m\u001b[33mDEPRECATION: redshift-connector 2.0.873 has a non-standard dependency specifier boto3>=1.16.8<1.17.0. pip 24.0 will enforce this behaviour change. A possible replacement is to upgrade to a newer version of redshift-connector or contact the author to suggest that they release a version with a conforming dependency specifiers. Discussion can be found at https://github.com/pypa/pip/issues/12063\u001b[0m\u001b[33m\n",
      "\u001b[0m\u001b[33mDEPRECATION: redshift-connector 2.0.873 has a non-standard dependency specifier requests>=2.23.0<2.24.0. pip 24.0 will enforce this behaviour change. A possible replacement is to upgrade to a newer version of redshift-connector or contact the author to suggest that they release a version with a conforming dependency specifiers. Discussion can be found at https://github.com/pypa/pip/issues/12063\u001b[0m\u001b[33m\n",
      "\u001b[0m\u001b[33mDEPRECATION: redshift-connector 2.0.873 has a non-standard dependency specifier lxml>=4.2.5<4.6.0. pip 24.0 will enforce this behaviour change. A possible replacement is to upgrade to a newer version of redshift-connector or contact the author to suggest that they release a version with a conforming dependency specifiers. Discussion can be found at https://github.com/pypa/pip/issues/12063\u001b[0m\u001b[33m\n",
      "\u001b[0m\u001b[33mDEPRECATION: redshift-connector 2.0.873 has a non-standard dependency specifier botocore>=1.19.8<1.20.0. pip 24.0 will enforce this behaviour change. A possible replacement is to upgrade to a newer version of redshift-connector or contact the author to suggest that they release a version with a conforming dependency specifiers. Discussion can be found at https://github.com/pypa/pip/issues/12063\u001b[0m\u001b[33m\n",
      "\u001b[0m\n",
      "\u001b[1m[\u001b[0m\u001b[34;49mnotice\u001b[0m\u001b[1;39;49m]\u001b[0m\u001b[39;49m A new release of pip is available: \u001b[0m\u001b[31;49m23.3.1\u001b[0m\u001b[39;49m -> \u001b[0m\u001b[32;49m24.0\u001b[0m\n",
      "\u001b[1m[\u001b[0m\u001b[34;49mnotice\u001b[0m\u001b[1;39;49m]\u001b[0m\u001b[39;49m To update, run: \u001b[0m\u001b[32;49mpip install --upgrade pip\u001b[0m\n",
      "Note: you may need to restart the kernel to use updated packages.\n"
     ]
    }
   ],
   "source": [
    "pip install importlib-metadata"
   ]
  },
  {
   "cell_type": "code",
   "execution_count": 3,
   "id": "concerned-database",
   "metadata": {},
   "outputs": [
    {
     "name": "stdout",
     "output_type": "stream",
     "text": [
      "Requirement already satisfied: bertopic[visualization] in /home/fernando/.pyenv/versions/3.7.2/lib/python3.7/site-packages (0.16.0)\n",
      "\u001b[33mWARNING: bertopic 0.16.0 does not provide the extra 'visualization'\u001b[0m\u001b[33m\n",
      "\u001b[0mRequirement already satisfied: numpy>=1.20.0 in /home/fernando/.pyenv/versions/3.7.2/lib/python3.7/site-packages (from bertopic[visualization]) (1.21.6)\n",
      "Requirement already satisfied: hdbscan>=0.8.29 in /home/fernando/.pyenv/versions/3.7.2/lib/python3.7/site-packages (from bertopic[visualization]) (0.8.33)\n",
      "Requirement already satisfied: umap-learn>=0.5.0 in /home/fernando/.pyenv/versions/3.7.2/lib/python3.7/site-packages (from bertopic[visualization]) (0.5.5)\n",
      "Requirement already satisfied: pandas>=1.1.5 in /home/fernando/.pyenv/versions/3.7.2/lib/python3.7/site-packages (from bertopic[visualization]) (1.3.5)\n",
      "Requirement already satisfied: scikit-learn>=0.22.2.post1 in /home/fernando/.pyenv/versions/3.7.2/lib/python3.7/site-packages (from bertopic[visualization]) (1.0.1)\n",
      "Requirement already satisfied: tqdm>=4.41.1 in /home/fernando/.pyenv/versions/3.7.2/lib/python3.7/site-packages (from bertopic[visualization]) (4.61.1)\n",
      "Requirement already satisfied: sentence-transformers>=0.4.1 in /home/fernando/.pyenv/versions/3.7.2/lib/python3.7/site-packages (from bertopic[visualization]) (2.2.0)\n",
      "Requirement already satisfied: plotly>=4.7.0 in /home/fernando/.pyenv/versions/3.7.2/lib/python3.7/site-packages (from bertopic[visualization]) (5.1.0)\n",
      "Requirement already satisfied: cython<3,>=0.27 in /home/fernando/.pyenv/versions/3.7.2/lib/python3.7/site-packages (from hdbscan>=0.8.29->bertopic[visualization]) (0.29.37)\n",
      "Requirement already satisfied: scipy>=1.0 in /home/fernando/.pyenv/versions/3.7.2/lib/python3.7/site-packages (from hdbscan>=0.8.29->bertopic[visualization]) (1.7.3)\n",
      "Requirement already satisfied: joblib>=1.0 in /home/fernando/.pyenv/versions/3.7.2/lib/python3.7/site-packages (from hdbscan>=0.8.29->bertopic[visualization]) (1.0.1)\n",
      "Requirement already satisfied: python-dateutil>=2.7.3 in /home/fernando/.pyenv/versions/3.7.2/lib/python3.7/site-packages (from pandas>=1.1.5->bertopic[visualization]) (2.8.2)\n",
      "Requirement already satisfied: pytz>=2017.3 in /home/fernando/.pyenv/versions/3.7.2/lib/python3.7/site-packages (from pandas>=1.1.5->bertopic[visualization]) (2022.1)\n",
      "Requirement already satisfied: tenacity>=6.2.0 in /home/fernando/.pyenv/versions/3.7.2/lib/python3.7/site-packages (from plotly>=4.7.0->bertopic[visualization]) (7.0.0)\n",
      "Requirement already satisfied: six in /home/fernando/.pyenv/versions/3.7.2/lib/python3.7/site-packages (from plotly>=4.7.0->bertopic[visualization]) (1.15.0)\n",
      "Requirement already satisfied: threadpoolctl>=2.0.0 in /home/fernando/.pyenv/versions/3.7.2/lib/python3.7/site-packages (from scikit-learn>=0.22.2.post1->bertopic[visualization]) (2.1.0)\n",
      "Requirement already satisfied: transformers<5.0.0,>=4.6.0 in /home/fernando/.pyenv/versions/3.7.2/lib/python3.7/site-packages (from sentence-transformers>=0.4.1->bertopic[visualization]) (4.19.4)\n",
      "Requirement already satisfied: torch>=1.6.0 in /home/fernando/.pyenv/versions/3.7.2/lib/python3.7/site-packages (from sentence-transformers>=0.4.1->bertopic[visualization]) (1.11.0)\n",
      "Requirement already satisfied: torchvision in /home/fernando/.pyenv/versions/3.7.2/lib/python3.7/site-packages (from sentence-transformers>=0.4.1->bertopic[visualization]) (0.12.0)\n",
      "Requirement already satisfied: nltk in /home/fernando/.pyenv/versions/3.7.2/lib/python3.7/site-packages (from sentence-transformers>=0.4.1->bertopic[visualization]) (3.6.2)\n",
      "Requirement already satisfied: sentencepiece in /home/fernando/.pyenv/versions/3.7.2/lib/python3.7/site-packages (from sentence-transformers>=0.4.1->bertopic[visualization]) (0.1.96)\n",
      "Requirement already satisfied: huggingface-hub in /home/fernando/.pyenv/versions/3.7.2/lib/python3.7/site-packages (from sentence-transformers>=0.4.1->bertopic[visualization]) (0.7.0)\n",
      "Requirement already satisfied: numba>=0.51.2 in /home/fernando/.pyenv/versions/3.7.2/lib/python3.7/site-packages (from umap-learn>=0.5.0->bertopic[visualization]) (0.56.4)\n",
      "Requirement already satisfied: pynndescent>=0.5 in /home/fernando/.pyenv/versions/3.7.2/lib/python3.7/site-packages (from umap-learn>=0.5.0->bertopic[visualization]) (0.5.11)\n",
      "Requirement already satisfied: llvmlite<0.40,>=0.39.0dev0 in /home/fernando/.pyenv/versions/3.7.2/lib/python3.7/site-packages (from numba>=0.51.2->umap-learn>=0.5.0->bertopic[visualization]) (0.39.1)\n",
      "Requirement already satisfied: setuptools in /home/fernando/.pyenv/versions/3.7.2/lib/python3.7/site-packages (from numba>=0.51.2->umap-learn>=0.5.0->bertopic[visualization]) (68.0.0)\n",
      "Requirement already satisfied: importlib-metadata in /home/fernando/.pyenv/versions/3.7.2/lib/python3.7/site-packages (from numba>=0.51.2->umap-learn>=0.5.0->bertopic[visualization]) (4.11.3)\n",
      "Requirement already satisfied: typing-extensions in /home/fernando/.pyenv/versions/3.7.2/lib/python3.7/site-packages (from torch>=1.6.0->sentence-transformers>=0.4.1->bertopic[visualization]) (3.7.4.3)\n",
      "Requirement already satisfied: filelock in /home/fernando/.pyenv/versions/3.7.2/lib/python3.7/site-packages (from transformers<5.0.0,>=4.6.0->sentence-transformers>=0.4.1->bertopic[visualization]) (3.7.0)\n",
      "Requirement already satisfied: packaging>=20.0 in /home/fernando/.pyenv/versions/3.7.2/lib/python3.7/site-packages (from transformers<5.0.0,>=4.6.0->sentence-transformers>=0.4.1->bertopic[visualization]) (21.3)\n",
      "Requirement already satisfied: pyyaml>=5.1 in /home/fernando/.pyenv/versions/3.7.2/lib/python3.7/site-packages (from transformers<5.0.0,>=4.6.0->sentence-transformers>=0.4.1->bertopic[visualization]) (5.3.1)\n",
      "Requirement already satisfied: regex!=2019.12.17 in /home/fernando/.pyenv/versions/3.7.2/lib/python3.7/site-packages (from transformers<5.0.0,>=4.6.0->sentence-transformers>=0.4.1->bertopic[visualization]) (2019.12.20)\n",
      "Requirement already satisfied: requests in /home/fernando/.pyenv/versions/3.7.2/lib/python3.7/site-packages (from transformers<5.0.0,>=4.6.0->sentence-transformers>=0.4.1->bertopic[visualization]) (2.27.1)\n",
      "Requirement already satisfied: tokenizers!=0.11.3,<0.13,>=0.11.1 in /home/fernando/.pyenv/versions/3.7.2/lib/python3.7/site-packages (from transformers<5.0.0,>=4.6.0->sentence-transformers>=0.4.1->bertopic[visualization]) (0.12.1)\n",
      "Requirement already satisfied: click in /home/fernando/.pyenv/versions/3.7.2/lib/python3.7/site-packages (from nltk->sentence-transformers>=0.4.1->bertopic[visualization]) (7.1.2)\n",
      "Requirement already satisfied: pillow!=8.3.*,>=5.3.0 in /home/fernando/.pyenv/versions/3.7.2/lib/python3.7/site-packages (from torchvision->sentence-transformers>=0.4.1->bertopic[visualization]) (8.1.0)\n",
      "Requirement already satisfied: zipp>=0.5 in /home/fernando/.pyenv/versions/3.7.2/lib/python3.7/site-packages (from importlib-metadata->numba>=0.51.2->umap-learn>=0.5.0->bertopic[visualization]) (3.8.0)\n",
      "Requirement already satisfied: pyparsing!=3.0.5,>=2.0.2 in /home/fernando/.pyenv/versions/3.7.2/lib/python3.7/site-packages (from packaging>=20.0->transformers<5.0.0,>=4.6.0->sentence-transformers>=0.4.1->bertopic[visualization]) (2.4.7)\n",
      "Requirement already satisfied: urllib3<1.27,>=1.21.1 in /home/fernando/.pyenv/versions/3.7.2/lib/python3.7/site-packages (from requests->transformers<5.0.0,>=4.6.0->sentence-transformers>=0.4.1->bertopic[visualization]) (1.26.9)\n",
      "Requirement already satisfied: certifi>=2017.4.17 in /home/fernando/.pyenv/versions/3.7.2/lib/python3.7/site-packages (from requests->transformers<5.0.0,>=4.6.0->sentence-transformers>=0.4.1->bertopic[visualization]) (2022.5.18.1)\n",
      "Requirement already satisfied: charset-normalizer~=2.0.0 in /home/fernando/.pyenv/versions/3.7.2/lib/python3.7/site-packages (from requests->transformers<5.0.0,>=4.6.0->sentence-transformers>=0.4.1->bertopic[visualization]) (2.0.12)\n",
      "Requirement already satisfied: idna<4,>=2.5 in /home/fernando/.pyenv/versions/3.7.2/lib/python3.7/site-packages (from requests->transformers<5.0.0,>=4.6.0->sentence-transformers>=0.4.1->bertopic[visualization]) (3.3)\n",
      "\u001b[33mDEPRECATION: redshift-connector 2.0.873 has a non-standard dependency specifier scramp>=1.2.0<1.3.0. pip 24.0 will enforce this behaviour change. A possible replacement is to upgrade to a newer version of redshift-connector or contact the author to suggest that they release a version with a conforming dependency specifiers. Discussion can be found at https://github.com/pypa/pip/issues/12063\u001b[0m\u001b[33m\n",
      "\u001b[0m\u001b[33mDEPRECATION: redshift-connector 2.0.873 has a non-standard dependency specifier pytz>=2020.1<2020.2. pip 24.0 will enforce this behaviour change. A possible replacement is to upgrade to a newer version of redshift-connector or contact the author to suggest that they release a version with a conforming dependency specifiers. Discussion can be found at https://github.com/pypa/pip/issues/12063\u001b[0m\u001b[33m\n",
      "\u001b[0m\u001b[33mDEPRECATION: redshift-connector 2.0.873 has a non-standard dependency specifier beautifulsoup4>=4.7.0<4.8.0. pip 24.0 will enforce this behaviour change. A possible replacement is to upgrade to a newer version of redshift-connector or contact the author to suggest that they release a version with a conforming dependency specifiers. Discussion can be found at https://github.com/pypa/pip/issues/12063\u001b[0m\u001b[33m\n",
      "\u001b[0m\u001b[33mDEPRECATION: redshift-connector 2.0.873 has a non-standard dependency specifier boto3>=1.16.8<1.17.0. pip 24.0 will enforce this behaviour change. A possible replacement is to upgrade to a newer version of redshift-connector or contact the author to suggest that they release a version with a conforming dependency specifiers. Discussion can be found at https://github.com/pypa/pip/issues/12063\u001b[0m\u001b[33m\n",
      "\u001b[0m\u001b[33mDEPRECATION: redshift-connector 2.0.873 has a non-standard dependency specifier requests>=2.23.0<2.24.0. pip 24.0 will enforce this behaviour change. A possible replacement is to upgrade to a newer version of redshift-connector or contact the author to suggest that they release a version with a conforming dependency specifiers. Discussion can be found at https://github.com/pypa/pip/issues/12063\u001b[0m\u001b[33m\n",
      "\u001b[0m\u001b[33mDEPRECATION: redshift-connector 2.0.873 has a non-standard dependency specifier lxml>=4.2.5<4.6.0. pip 24.0 will enforce this behaviour change. A possible replacement is to upgrade to a newer version of redshift-connector or contact the author to suggest that they release a version with a conforming dependency specifiers. Discussion can be found at https://github.com/pypa/pip/issues/12063\u001b[0m\u001b[33m\n",
      "\u001b[0m\u001b[33mDEPRECATION: redshift-connector 2.0.873 has a non-standard dependency specifier botocore>=1.19.8<1.20.0. pip 24.0 will enforce this behaviour change. A possible replacement is to upgrade to a newer version of redshift-connector or contact the author to suggest that they release a version with a conforming dependency specifiers. Discussion can be found at https://github.com/pypa/pip/issues/12063\u001b[0m\u001b[33m\n"
     ]
    },
    {
     "name": "stdout",
     "output_type": "stream",
     "text": [
      "\u001b[0m\n",
      "\u001b[1m[\u001b[0m\u001b[34;49mnotice\u001b[0m\u001b[1;39;49m]\u001b[0m\u001b[39;49m A new release of pip is available: \u001b[0m\u001b[31;49m23.3.1\u001b[0m\u001b[39;49m -> \u001b[0m\u001b[32;49m24.0\u001b[0m\n",
      "\u001b[1m[\u001b[0m\u001b[34;49mnotice\u001b[0m\u001b[1;39;49m]\u001b[0m\u001b[39;49m To update, run: \u001b[0m\u001b[32;49mpip install --upgrade pip\u001b[0m\n",
      "Note: you may need to restart the kernel to use updated packages.\n"
     ]
    }
   ],
   "source": [
    "pip install bertopic[visualization]\n"
   ]
  },
  {
   "cell_type": "code",
   "execution_count": 4,
   "id": "tribal-vulnerability",
   "metadata": {},
   "outputs": [
    {
     "name": "stdout",
     "output_type": "stream",
     "text": [
      "Requirement already satisfied: importlib-metadata in /home/fernando/.pyenv/versions/3.7.2/lib/python3.7/site-packages (4.11.3)\n",
      "Requirement already satisfied: zipp>=0.5 in /home/fernando/.pyenv/versions/3.7.2/lib/python3.7/site-packages (from importlib-metadata) (3.8.0)\n",
      "Requirement already satisfied: typing-extensions>=3.6.4 in /home/fernando/.pyenv/versions/3.7.2/lib/python3.7/site-packages (from importlib-metadata) (3.7.4.3)\n",
      "\u001b[33mDEPRECATION: redshift-connector 2.0.873 has a non-standard dependency specifier scramp>=1.2.0<1.3.0. pip 24.0 will enforce this behaviour change. A possible replacement is to upgrade to a newer version of redshift-connector or contact the author to suggest that they release a version with a conforming dependency specifiers. Discussion can be found at https://github.com/pypa/pip/issues/12063\u001b[0m\u001b[33m\n",
      "\u001b[0m\u001b[33mDEPRECATION: redshift-connector 2.0.873 has a non-standard dependency specifier pytz>=2020.1<2020.2. pip 24.0 will enforce this behaviour change. A possible replacement is to upgrade to a newer version of redshift-connector or contact the author to suggest that they release a version with a conforming dependency specifiers. Discussion can be found at https://github.com/pypa/pip/issues/12063\u001b[0m\u001b[33m\n",
      "\u001b[0m\u001b[33mDEPRECATION: redshift-connector 2.0.873 has a non-standard dependency specifier beautifulsoup4>=4.7.0<4.8.0. pip 24.0 will enforce this behaviour change. A possible replacement is to upgrade to a newer version of redshift-connector or contact the author to suggest that they release a version with a conforming dependency specifiers. Discussion can be found at https://github.com/pypa/pip/issues/12063\u001b[0m\u001b[33m\n",
      "\u001b[0m\u001b[33mDEPRECATION: redshift-connector 2.0.873 has a non-standard dependency specifier boto3>=1.16.8<1.17.0. pip 24.0 will enforce this behaviour change. A possible replacement is to upgrade to a newer version of redshift-connector or contact the author to suggest that they release a version with a conforming dependency specifiers. Discussion can be found at https://github.com/pypa/pip/issues/12063\u001b[0m\u001b[33m\n",
      "\u001b[0m\u001b[33mDEPRECATION: redshift-connector 2.0.873 has a non-standard dependency specifier requests>=2.23.0<2.24.0. pip 24.0 will enforce this behaviour change. A possible replacement is to upgrade to a newer version of redshift-connector or contact the author to suggest that they release a version with a conforming dependency specifiers. Discussion can be found at https://github.com/pypa/pip/issues/12063\u001b[0m\u001b[33m\n",
      "\u001b[0m\u001b[33mDEPRECATION: redshift-connector 2.0.873 has a non-standard dependency specifier lxml>=4.2.5<4.6.0. pip 24.0 will enforce this behaviour change. A possible replacement is to upgrade to a newer version of redshift-connector or contact the author to suggest that they release a version with a conforming dependency specifiers. Discussion can be found at https://github.com/pypa/pip/issues/12063\u001b[0m\u001b[33m\n",
      "\u001b[0m\u001b[33mDEPRECATION: redshift-connector 2.0.873 has a non-standard dependency specifier botocore>=1.19.8<1.20.0. pip 24.0 will enforce this behaviour change. A possible replacement is to upgrade to a newer version of redshift-connector or contact the author to suggest that they release a version with a conforming dependency specifiers. Discussion can be found at https://github.com/pypa/pip/issues/12063\u001b[0m\u001b[33m\n",
      "\u001b[0m\n",
      "\u001b[1m[\u001b[0m\u001b[34;49mnotice\u001b[0m\u001b[1;39;49m]\u001b[0m\u001b[39;49m A new release of pip is available: \u001b[0m\u001b[31;49m23.3.1\u001b[0m\u001b[39;49m -> \u001b[0m\u001b[32;49m24.0\u001b[0m\n",
      "\u001b[1m[\u001b[0m\u001b[34;49mnotice\u001b[0m\u001b[1;39;49m]\u001b[0m\u001b[39;49m To update, run: \u001b[0m\u001b[32;49mpip install --upgrade pip\u001b[0m\n",
      "Note: you may need to restart the kernel to use updated packages.\n"
     ]
    }
   ],
   "source": [
    "pip install importlib-metadata\n"
   ]
  },
  {
   "cell_type": "code",
   "execution_count": 5,
   "id": "equal-affair",
   "metadata": {},
   "outputs": [
    {
     "name": "stdout",
     "output_type": "stream",
     "text": [
      "Requirement already satisfied: importlib-metadata in /home/fernando/.pyenv/versions/3.7.2/lib/python3.7/site-packages (4.11.3)\n",
      "Requirement already satisfied: zipp>=0.5 in /home/fernando/.pyenv/versions/3.7.2/lib/python3.7/site-packages (from importlib-metadata) (3.8.0)\n",
      "Requirement already satisfied: typing-extensions>=3.6.4 in /home/fernando/.pyenv/versions/3.7.2/lib/python3.7/site-packages (from importlib-metadata) (3.7.4.3)\n",
      "\u001b[33mDEPRECATION: redshift-connector 2.0.873 has a non-standard dependency specifier scramp>=1.2.0<1.3.0. pip 24.0 will enforce this behaviour change. A possible replacement is to upgrade to a newer version of redshift-connector or contact the author to suggest that they release a version with a conforming dependency specifiers. Discussion can be found at https://github.com/pypa/pip/issues/12063\u001b[0m\u001b[33m\n",
      "\u001b[0m\u001b[33mDEPRECATION: redshift-connector 2.0.873 has a non-standard dependency specifier pytz>=2020.1<2020.2. pip 24.0 will enforce this behaviour change. A possible replacement is to upgrade to a newer version of redshift-connector or contact the author to suggest that they release a version with a conforming dependency specifiers. Discussion can be found at https://github.com/pypa/pip/issues/12063\u001b[0m\u001b[33m\n",
      "\u001b[0m\u001b[33mDEPRECATION: redshift-connector 2.0.873 has a non-standard dependency specifier beautifulsoup4>=4.7.0<4.8.0. pip 24.0 will enforce this behaviour change. A possible replacement is to upgrade to a newer version of redshift-connector or contact the author to suggest that they release a version with a conforming dependency specifiers. Discussion can be found at https://github.com/pypa/pip/issues/12063\u001b[0m\u001b[33m\n",
      "\u001b[0m\u001b[33mDEPRECATION: redshift-connector 2.0.873 has a non-standard dependency specifier boto3>=1.16.8<1.17.0. pip 24.0 will enforce this behaviour change. A possible replacement is to upgrade to a newer version of redshift-connector or contact the author to suggest that they release a version with a conforming dependency specifiers. Discussion can be found at https://github.com/pypa/pip/issues/12063\u001b[0m\u001b[33m\n",
      "\u001b[0m\u001b[33mDEPRECATION: redshift-connector 2.0.873 has a non-standard dependency specifier requests>=2.23.0<2.24.0. pip 24.0 will enforce this behaviour change. A possible replacement is to upgrade to a newer version of redshift-connector or contact the author to suggest that they release a version with a conforming dependency specifiers. Discussion can be found at https://github.com/pypa/pip/issues/12063\u001b[0m\u001b[33m\n",
      "\u001b[0m\u001b[33mDEPRECATION: redshift-connector 2.0.873 has a non-standard dependency specifier lxml>=4.2.5<4.6.0. pip 24.0 will enforce this behaviour change. A possible replacement is to upgrade to a newer version of redshift-connector or contact the author to suggest that they release a version with a conforming dependency specifiers. Discussion can be found at https://github.com/pypa/pip/issues/12063\u001b[0m\u001b[33m\n",
      "\u001b[0m\u001b[33mDEPRECATION: redshift-connector 2.0.873 has a non-standard dependency specifier botocore>=1.19.8<1.20.0. pip 24.0 will enforce this behaviour change. A possible replacement is to upgrade to a newer version of redshift-connector or contact the author to suggest that they release a version with a conforming dependency specifiers. Discussion can be found at https://github.com/pypa/pip/issues/12063\u001b[0m\u001b[33m\n",
      "\u001b[0m\n",
      "\u001b[1m[\u001b[0m\u001b[34;49mnotice\u001b[0m\u001b[1;39;49m]\u001b[0m\u001b[39;49m A new release of pip is available: \u001b[0m\u001b[31;49m23.3.1\u001b[0m\u001b[39;49m -> \u001b[0m\u001b[32;49m24.0\u001b[0m\n",
      "\u001b[1m[\u001b[0m\u001b[34;49mnotice\u001b[0m\u001b[1;39;49m]\u001b[0m\u001b[39;49m To update, run: \u001b[0m\u001b[32;49mpip install --upgrade pip\u001b[0m\n",
      "Note: you may need to restart the kernel to use updated packages.\n"
     ]
    }
   ],
   "source": [
    "pip install importlib-metadata\n"
   ]
  },
  {
   "cell_type": "code",
   "execution_count": 6,
   "id": "objective-flush",
   "metadata": {},
   "outputs": [
    {
     "ename": "ModuleNotFoundError",
     "evalue": "No module named 'importlib.metadata'",
     "output_type": "error",
     "traceback": [
      "\u001b[0;31m---------------------------------------------------------------------------\u001b[0m",
      "\u001b[0;31mModuleNotFoundError\u001b[0m                       Traceback (most recent call last)",
      "\u001b[0;32m<ipython-input-6-ff4996330e10>\u001b[0m in \u001b[0;36m<module>\u001b[0;34m\u001b[0m\n\u001b[1;32m      3\u001b[0m \u001b[0;32mimport\u001b[0m \u001b[0mpandas\u001b[0m \u001b[0;32mas\u001b[0m \u001b[0mpd\u001b[0m\u001b[0;34m\u001b[0m\u001b[0;34m\u001b[0m\u001b[0m\n\u001b[1;32m      4\u001b[0m \u001b[0;32mimport\u001b[0m \u001b[0mnumpy\u001b[0m \u001b[0;32mas\u001b[0m \u001b[0mnp\u001b[0m\u001b[0;34m\u001b[0m\u001b[0;34m\u001b[0m\u001b[0m\n\u001b[0;32m----> 5\u001b[0;31m \u001b[0;32mfrom\u001b[0m \u001b[0mbertopic\u001b[0m \u001b[0;32mimport\u001b[0m \u001b[0mBERTopic\u001b[0m\u001b[0;34m\u001b[0m\u001b[0;34m\u001b[0m\u001b[0m\n\u001b[0m",
      "\u001b[0;32m~/.pyenv/versions/3.7.2/lib/python3.7/site-packages/bertopic/__init__.py\u001b[0m in \u001b[0;36m<module>\u001b[0;34m\u001b[0m\n\u001b[0;32m----> 1\u001b[0;31m \u001b[0;32mfrom\u001b[0m \u001b[0mbertopic\u001b[0m\u001b[0;34m.\u001b[0m\u001b[0m_bertopic\u001b[0m \u001b[0;32mimport\u001b[0m \u001b[0mBERTopic\u001b[0m\u001b[0;34m\u001b[0m\u001b[0;34m\u001b[0m\u001b[0m\n\u001b[0m\u001b[1;32m      2\u001b[0m \u001b[0;34m\u001b[0m\u001b[0m\n\u001b[1;32m      3\u001b[0m \u001b[0m__version__\u001b[0m \u001b[0;34m=\u001b[0m \u001b[0;34m\"0.16.0\"\u001b[0m\u001b[0;34m\u001b[0m\u001b[0;34m\u001b[0m\u001b[0m\n\u001b[1;32m      4\u001b[0m \u001b[0;34m\u001b[0m\u001b[0m\n\u001b[1;32m      5\u001b[0m __all__ = [\n",
      "\u001b[0;32m~/.pyenv/versions/3.7.2/lib/python3.7/site-packages/bertopic/_bertopic.py\u001b[0m in \u001b[0;36m<module>\u001b[0;34m\u001b[0m\n\u001b[1;32m     36\u001b[0m \u001b[0;31m# Models\u001b[0m\u001b[0;34m\u001b[0m\u001b[0;34m\u001b[0m\u001b[0;34m\u001b[0m\u001b[0m\n\u001b[1;32m     37\u001b[0m \u001b[0;32mimport\u001b[0m \u001b[0mhdbscan\u001b[0m\u001b[0;34m\u001b[0m\u001b[0;34m\u001b[0m\u001b[0m\n\u001b[0;32m---> 38\u001b[0;31m \u001b[0;32mfrom\u001b[0m \u001b[0mumap\u001b[0m \u001b[0;32mimport\u001b[0m \u001b[0mUMAP\u001b[0m\u001b[0;34m\u001b[0m\u001b[0;34m\u001b[0m\u001b[0m\n\u001b[0m\u001b[1;32m     39\u001b[0m \u001b[0;32mfrom\u001b[0m \u001b[0msklearn\u001b[0m\u001b[0;34m.\u001b[0m\u001b[0mpreprocessing\u001b[0m \u001b[0;32mimport\u001b[0m \u001b[0mnormalize\u001b[0m\u001b[0;34m\u001b[0m\u001b[0;34m\u001b[0m\u001b[0m\n\u001b[1;32m     40\u001b[0m \u001b[0;32mfrom\u001b[0m \u001b[0msklearn\u001b[0m \u001b[0;32mimport\u001b[0m \u001b[0m__version__\u001b[0m \u001b[0;32mas\u001b[0m \u001b[0msklearn_version\u001b[0m\u001b[0;34m\u001b[0m\u001b[0;34m\u001b[0m\u001b[0m\n",
      "\u001b[0;32m~/.pyenv/versions/3.7.2/lib/python3.7/site-packages/umap/__init__.py\u001b[0m in \u001b[0;36m<module>\u001b[0;34m\u001b[0m\n\u001b[1;32m     34\u001b[0m \u001b[0;32mimport\u001b[0m \u001b[0mnumba\u001b[0m\u001b[0;34m\u001b[0m\u001b[0;34m\u001b[0m\u001b[0m\n\u001b[1;32m     35\u001b[0m \u001b[0;34m\u001b[0m\u001b[0m\n\u001b[0;32m---> 36\u001b[0;31m \u001b[0;32mfrom\u001b[0m \u001b[0mimportlib\u001b[0m\u001b[0;34m.\u001b[0m\u001b[0mmetadata\u001b[0m \u001b[0;32mimport\u001b[0m \u001b[0mversion\u001b[0m\u001b[0;34m,\u001b[0m \u001b[0mPackageNotFoundError\u001b[0m\u001b[0;34m\u001b[0m\u001b[0;34m\u001b[0m\u001b[0m\n\u001b[0m\u001b[1;32m     37\u001b[0m \u001b[0;34m\u001b[0m\u001b[0m\n\u001b[1;32m     38\u001b[0m \u001b[0;32mtry\u001b[0m\u001b[0;34m:\u001b[0m\u001b[0;34m\u001b[0m\u001b[0;34m\u001b[0m\u001b[0m\n",
      "\u001b[0;31mModuleNotFoundError\u001b[0m: No module named 'importlib.metadata'"
     ]
    }
   ],
   "source": [
    "#import packages\n",
    "\n",
    "import pandas as pd \n",
    "import numpy as np\n",
    "from bertopic import BERTopic"
   ]
  },
  {
   "cell_type": "code",
   "execution_count": null,
   "id": "rapid-click",
   "metadata": {},
   "outputs": [],
   "source": []
  }
 ],
 "metadata": {
  "kernelspec": {
   "display_name": "Python 3 (ipykernel)",
   "language": "python",
   "name": "python3"
  },
  "language_info": {
   "codemirror_mode": {
    "name": "ipython",
    "version": 3
   },
   "file_extension": ".py",
   "mimetype": "text/x-python",
   "name": "python",
   "nbconvert_exporter": "python",
   "pygments_lexer": "ipython3",
   "version": "3.9.12"
  }
 },
 "nbformat": 4,
 "nbformat_minor": 5
}
